{
 "cells": [
  {
   "cell_type": "markdown",
   "metadata": {},
   "source": [
    "Session 1 - Classes"
   ]
  },
  {
   "cell_type": "code",
   "execution_count": 1,
   "metadata": {},
   "outputs": [
    {
     "name": "stdout",
     "output_type": "stream",
     "text": [
      "Pikachu\n"
     ]
    }
   ],
   "source": [
    "class Pokemon:\n",
    "    def __init__(self, name, types): # Constructor to initialize a Pokemon object. this constructor takes two parameters: name and types. this constructor includes special parameter self - refers to the currrent instance of the class. We call constructors by class name (not by __init__ function name)\n",
    "        self.name = name\n",
    "        self.types = types\n",
    "        self.is_caught = False\n",
    "\n",
    "my_pokemon = Pokemon(\"Pikachu\", [\"Electric\"]) #instantiate a class\n",
    "print(my_pokemon.name) #accessing the name attribute of the Pokemon instance"
   ]
  },
  {
   "cell_type": "code",
   "execution_count": null,
   "metadata": {},
   "outputs": [
    {
     "name": "stdout",
     "output_type": "stream",
     "text": [
      "['Jigglypuff', 'Meowth', 'Pidgeot']\n"
     ]
    }
   ],
   "source": [
    "class Pokemon:\n",
    "    def __init__(self, name, types):\n",
    "        self.name = name\n",
    "        self.types = types\n",
    "        self.is_caught = False # change attribute to true\n",
    "\n",
    "    def print_pokemon(self): # in this case, no parameter. Other may have params.\n",
    "        print({\n",
    "            \"name\": self.name,   # Output: \"name\": \"Squirtle\",\n",
    "            \"types\": self.types, # Output: \"types\": [\"Water\"],\n",
    "            \"is_caught\": self.is_caught # Output: \"is_caught\": False\n",
    "        })\n",
    "    \n",
    "    def catch(self):\n",
    "        self.is_caught = True\n",
    "\n",
    "    def choose(self):\n",
    "        if self.is_caught:\n",
    "            print(f\"{self.name} I choose you!\")\n",
    "        else:\n",
    "            print(f\"{self.name} is wild! Catch them if you can!\")\n",
    "\n",
    "    def add_type(self, new_type):\n",
    "        self.types.append(new_type)\n",
    "\n",
    "def get_by_type(my_pokemon, pokemon_type):\n",
    "    # return a list of all Pokemon instances in my_pokemon that have the specified type\n",
    "    match_names = []\n",
    "    for name in my_pokemon: # [jigglypuff, diglett, meowth, pidgeot, blastoise]\n",
    "        if pokemon_type in name.types: # name.types -> jigglypuff.types is [\"Normal\", \"Fairy\"]. if input param2 is \"Normal\" or \"Fairy\", return this pokemon's name, which is jigglypuff\n",
    "            match_names.append(name.name)\n",
    "    return match_names\n",
    "            \n",
    "\n",
    "# squirtle = Pokemon(\"Squirtle\", [\"water\"])\n",
    "# squirtle.print_pokemon() # call the class method, objectName.methodName()\n",
    "\n",
    "# my_pokemon = Pokemon(\"rattata\", [\"Normal\"])\n",
    "# my_pokemon.print_pokemon()\n",
    "\n",
    "# my_pokemon.choose()\n",
    "# my_pokemon.catch()\n",
    "# my_pokemon.choose()\n",
    "# jigglypuff = Pokemon(\"Jigglypuff\", [\"Normal\"])\n",
    "# jigglypuff.print_pokemon()\n",
    "\n",
    "# jigglypuff.add_type(\"Fairy\")\n",
    "# jigglypuff.print_pokemon()\n",
    "# initializing pokemons\n",
    "jigglypuff = Pokemon(\"Jigglypuff\", [\"Normal\", \"Fairy\"])\n",
    "diglett = Pokemon(\"Diglett\", [\"Ground\"])\n",
    "meowth = Pokemon(\"Meowth\", [\"Normal\"])\n",
    "pidgeot = Pokemon(\"Pidgeot\", [\"Normal\", \"Flying\"])\n",
    "blastoise = Pokemon(\"Blastoise\", [\"Water\"])\n",
    "\n",
    "my_pokemon = [jigglypuff, diglett, meowth, pidgeot, blastoise]\n",
    "normal_pokemon = get_by_type(my_pokemon, \"Normal\")\n",
    "print(normal_pokemon)"
   ]
  }
 ],
 "metadata": {
  "kernelspec": {
   "display_name": "Python 3",
   "language": "python",
   "name": "python3"
  },
  "language_info": {
   "codemirror_mode": {
    "name": "ipython",
    "version": 3
   },
   "file_extension": ".py",
   "mimetype": "text/x-python",
   "name": "python",
   "nbconvert_exporter": "python",
   "pygments_lexer": "ipython3",
   "version": "3.11.3"
  }
 },
 "nbformat": 4,
 "nbformat_minor": 2
}
