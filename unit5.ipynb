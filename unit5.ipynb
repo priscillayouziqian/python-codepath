{
 "cells": [
  {
   "cell_type": "markdown",
   "metadata": {},
   "source": [
    "Session 1 - Classes"
   ]
  },
  {
   "cell_type": "code",
   "execution_count": 1,
   "metadata": {},
   "outputs": [
    {
     "name": "stdout",
     "output_type": "stream",
     "text": [
      "Pikachu\n"
     ]
    }
   ],
   "source": [
    "class Pokemon:\n",
    "    def __init__(self, name, types): # Constructor to initialize a Pokemon object. this constructor takes two parameters: name and types. this constructor includes special parameter self - refers to the currrent instance of the class. We call constructors by class name (not by __init__ function name)\n",
    "        self.name = name\n",
    "        self.types = types\n",
    "        self.is_caught = False\n",
    "\n",
    "my_pokemon = Pokemon(\"Pikachu\", [\"Electric\"]) #instantiate a class\n",
    "print(my_pokemon.name) #accessing the name attribute of the Pokemon instance"
   ]
  },
  {
   "cell_type": "code",
   "execution_count": null,
   "metadata": {},
   "outputs": [
    {
     "name": "stdout",
     "output_type": "stream",
     "text": [
      "['Jigglypuff', 'Meowth', 'Pidgeot']\n"
     ]
    }
   ],
   "source": [
    "class Pokemon:\n",
    "    def __init__(self, name, types):\n",
    "        self.name = name\n",
    "        self.types = types\n",
    "        self.is_caught = False # change attribute to true\n",
    "\n",
    "    def print_pokemon(self): # in this case, no parameter. Other may have params.\n",
    "        print({\n",
    "            \"name\": self.name,   # Output: \"name\": \"Squirtle\",\n",
    "            \"types\": self.types, # Output: \"types\": [\"Water\"],\n",
    "            \"is_caught\": self.is_caught # Output: \"is_caught\": False\n",
    "        })\n",
    "    \n",
    "    def catch(self):\n",
    "        self.is_caught = True\n",
    "\n",
    "    def choose(self):\n",
    "        if self.is_caught:\n",
    "            print(f\"{self.name} I choose you!\")\n",
    "        else:\n",
    "            print(f\"{self.name} is wild! Catch them if you can!\")\n",
    "\n",
    "    def add_type(self, new_type):\n",
    "        self.types.append(new_type)\n",
    "\n",
    "def get_by_type(my_pokemon, pokemon_type):\n",
    "    # return a list of all Pokemon instances in my_pokemon that have the specified type\n",
    "    match_names = []\n",
    "    for name in my_pokemon: # [jigglypuff, diglett, meowth, pidgeot, blastoise]\n",
    "        if pokemon_type in name.types: # name.types -> jigglypuff.types is [\"Normal\", \"Fairy\"]. if input param2 is \"Normal\" or \"Fairy\", return this pokemon's name, which is jigglypuff\n",
    "            match_names.append(name.name)\n",
    "    return match_names\n",
    "            \n",
    "\n",
    "# squirtle = Pokemon(\"Squirtle\", [\"water\"])\n",
    "# squirtle.print_pokemon() # call the class method, objectName.methodName()\n",
    "\n",
    "# my_pokemon = Pokemon(\"rattata\", [\"Normal\"])\n",
    "# my_pokemon.print_pokemon()\n",
    "\n",
    "# my_pokemon.choose()\n",
    "# my_pokemon.catch()\n",
    "# my_pokemon.choose()\n",
    "# jigglypuff = Pokemon(\"Jigglypuff\", [\"Normal\"])\n",
    "# jigglypuff.print_pokemon()\n",
    "\n",
    "# jigglypuff.add_type(\"Fairy\")\n",
    "# jigglypuff.print_pokemon()\n",
    "# initializing pokemons\n",
    "jigglypuff = Pokemon(\"Jigglypuff\", [\"Normal\", \"Fairy\"])\n",
    "diglett = Pokemon(\"Diglett\", [\"Ground\"])\n",
    "meowth = Pokemon(\"Meowth\", [\"Normal\"])\n",
    "pidgeot = Pokemon(\"Pidgeot\", [\"Normal\", \"Flying\"])\n",
    "blastoise = Pokemon(\"Blastoise\", [\"Water\"])\n",
    "\n",
    "my_pokemon = [jigglypuff, diglett, meowth, pidgeot, blastoise]\n",
    "normal_pokemon = get_by_type(my_pokemon, \"Normal\")\n",
    "print(normal_pokemon)"
   ]
  },
  {
   "cell_type": "code",
   "execution_count": null,
   "metadata": {},
   "outputs": [
    {
     "name": "stdout",
     "output_type": "stream",
     "text": [
      "['Charmander', 'Charmeleon', 'Charizard']\n",
      "['Charmeleon', 'Charizard']\n",
      "['Charizard']\n"
     ]
    }
   ],
   "source": [
    "class Pokemon():\n",
    "\tdef  __init__(self, name, types, evolution = None):\n",
    "\t\tself.name = name\n",
    "\t\tself.types = types\n",
    "\t\tself.is_caught = False\n",
    "\t\tself.evolution = evolution\n",
    " \n",
    "def get_evolutionary_line(starter_pokemon):\n",
    "    evolutionary_line = []\n",
    "    current_pokemon = starter_pokemon\n",
    "    while current_pokemon is not None: # while current_pokemon is not None, we can keep going down the evolutionary line\n",
    "        # append the name of the current Pokemon to the evolutionary line\n",
    "        evolutionary_line.append(current_pokemon.name)\n",
    "        current_pokemon = current_pokemon.evolution # e.g charizard.evolution is None, current_pokemon becomes None, and while loop ends, it goes to return line\n",
    "    return evolutionary_line\n",
    "\n",
    "charizard = Pokemon(\"Charizard\", [\"fire\", \"flying\"])\n",
    "charmeleon = Pokemon(\"Charmeleon\", [\"fire\"], charizard)\n",
    "charmander = Pokemon(\"Charmander\", [\"fire\"], charmeleon)\n",
    "\n",
    "charmander_list = get_evolutionary_line(charmander)\n",
    "print(charmander_list)\n",
    "\n",
    "charmeleon_list = get_evolutionary_line(charmeleon)\n",
    "print(charmeleon_list)\n",
    "\n",
    "charizard_list = get_evolutionary_line(charizard)\n",
    "print(charizard_list)"
   ]
  },
  {
   "cell_type": "code",
   "execution_count": null,
   "metadata": {},
   "outputs": [
    {
     "name": "stdout",
     "output_type": "stream",
     "text": [
      "a\n",
      "b\n",
      "b\n"
     ]
    }
   ],
   "source": [
    "class Node:\n",
    "\tdef __init__(self, value, next=None):\n",
    "\t\tself.value = value\n",
    "\t\tself.next = next\n",
    "\t\t\n",
    "node_one = Node(\"a\")\n",
    "node_two = Node(\"b\")\n",
    "node_one.next = node_two # initialize the next attribute by updatting node_one's next property\n",
    "print(node_one.value)\n",
    "print(node_one.next.value)\n",
    "print(node_two.value)"
   ]
  },
  {
   "cell_type": "code",
   "execution_count": 20,
   "metadata": {},
   "outputs": [
    {
     "name": "stdout",
     "output_type": "stream",
     "text": [
      "Mario -> Luigi\n",
      "Luigi -> Wario\n",
      "Wario -> Toad\n",
      "Toad -> None\n"
     ]
    }
   ],
   "source": [
    "class Node:\n",
    "\tdef __init__(self, value, next=None):\n",
    "\t\tself.value = value\n",
    "\t\tself.next = next\n",
    "\t\t\n",
    "node_1 = Node(\"Mario\")\n",
    "node_2 = Node(\"Luigi\")\n",
    "node_3 = Node(\"Wario\")\n",
    "node_4 = Node(\"Toad\")\n",
    "node_1.next = node_2\n",
    "node_2.next = node_3\n",
    "node_3.next = node_4\n",
    "\n",
    "print(node_1.value, \"->\", node_1.next.value)\n",
    "print(node_2.value, \"->\", node_2.next.value)\n",
    "print(node_3.value, \"->\", node_3.next.value)\n",
    "print(node_4.value, \"->\", node_4.next)"
   ]
  },
  {
   "cell_type": "code",
   "execution_count": 30,
   "metadata": {},
   "outputs": [
    {
     "name": "stdout",
     "output_type": "stream",
     "text": [
      "['a']\n",
      "['a', 'b']\n",
      "['a', 'b', 'c']\n",
      "['a', 'b', 'c', 'd']\n",
      "['a', 'b', 'c', 'd', 'e']\n",
      "a -> b -> c -> d -> e\n"
     ]
    }
   ],
   "source": [
    "class Node:\n",
    "\tdef __init__(self, value, next=None):\n",
    "\t\tself.value = value\n",
    "\t\tself.next= next\n",
    "\t\t\n",
    "def print_linked_list(head):\n",
    "\tcurrent = head\n",
    "\tvalues = []\n",
    "\n",
    "\twhile current: # while current node is not None\n",
    "\t\t\tvalues.append(current.value) # add the node's value to the list\n",
    "\t\t\tcurrent = current.next # move to the next node\n",
    "\t\t\tprint(values)\n",
    "\tprint(\" -> \".join(values)) # join the list of string with \" -> \"\n",
    "\n",
    "# Example Usage:]\n",
    "a = Node(\"a\")\n",
    "b = Node(\"b\")\n",
    "c = Node(\"c\")\n",
    "d = Node(\"d\")\n",
    "e = Node(\"e\")\n",
    "\n",
    "a.next = b\n",
    "b.next = c\n",
    "c.next = d\n",
    "d.next = e\n",
    "e.next = None  # last node's next should be None\n",
    "\n",
    "print_linked_list(a)  # Output: a -> b -> c -> d -> e\n"
   ]
  }
 ],
 "metadata": {
  "kernelspec": {
   "display_name": "Python 3",
   "language": "python",
   "name": "python3"
  },
  "language_info": {
   "codemirror_mode": {
    "name": "ipython",
    "version": 3
   },
   "file_extension": ".py",
   "mimetype": "text/x-python",
   "name": "python",
   "nbconvert_exporter": "python",
   "pygments_lexer": "ipython3",
   "version": "3.11.3"
  }
 },
 "nbformat": 4,
 "nbformat_minor": 2
}
