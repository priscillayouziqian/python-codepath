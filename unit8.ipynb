{
 "cells": [
  {
   "cell_type": "markdown",
   "metadata": {},
   "source": [
    "Session 1"
   ]
  },
  {
   "cell_type": "code",
   "execution_count": null,
   "metadata": {},
   "outputs": [],
   "source": [
    "class TreeNode:\n",
    "    def __init__(self, val, left=None, right=None):\n",
    "        self.val = val\n",
    "        self.left = left\n",
    "        self.right = right\n",
    "\n",
    "# instantiating three nodes and linking them together\n",
    "root = TreeNode(10)\n",
    "left = TreeNode(4)\n",
    "right = TreeNode(6)\n",
    "root.left = left\n",
    "root.right = right"
   ]
  },
  {
   "cell_type": "code",
   "execution_count": null,
   "metadata": {},
   "outputs": [
    {
     "data": {
      "text/plain": [
       "False"
      ]
     },
     "execution_count": 10,
     "metadata": {},
     "output_type": "execute_result"
    }
   ],
   "source": [
    "class TreeNode:\n",
    "    def __init__(self, val, left=None, right=None):\n",
    "        self.val = val\n",
    "        self.left = left\n",
    "        self.right = right\n",
    "\n",
    "def check_tree(root):\n",
    "\t# edge case: if the tree is empty, return True\n",
    "\n",
    "    # return True if the value of the root is equal to the sum of the values of its two children\n",
    "    # if root.left.val + root.right.val == root.val:\n",
    "    #     return True\n",
    "    # return False\n",
    "    \n",
    "    # return root.val == root.left.val + root.right.val\n",
    "\n",
    "    if not root:\n",
    "        return False\n",
    "    \n",
    "    # 2) assume the left and right children are 0\n",
    "    left_val = right_val = 0\n",
    "\n",
    "    # 3) if the child node exist, update its value(not 0 anymore).\n",
    "    if root.left:\n",
    "        left_val = root.left.val\n",
    "    if root.right:\n",
    "        right_val = root.right.val\n",
    "\n",
    "    # calculate the sum with the root's value           \n",
    "    child_sum = left_val + right_val \n",
    "\n",
    "    # Compare the sum with the root's value and return boolean       \n",
    "    return root.val == child_sum\n",
    "\n",
    "# instantiating three nodes and linking them together\n",
    "root = TreeNode(10)\n",
    "left = TreeNode(4)\n",
    "right = TreeNode(6)\n",
    "root.left = left\n",
    "root.right = right\n",
    "\n",
    "check_tree(root) # should return True since 4 + 6 = 10\n",
    "# Output: True\n",
    "\n",
    "root = TreeNode(5)\n",
    "left = TreeNode(3)\n",
    "right = TreeNode(1)\n",
    "root.left = left\n",
    "root.right = right\n",
    "\n",
    "check_tree(root) # should return False since 3 + 1 != 5\n",
    "# Output: False\n",
    "\n",
    "root = TreeNode(10)\n",
    "left = TreeNode(10)\n",
    "root.left = left\n",
    "check_tree(root) # should return True since 10 + 0 = 10\n",
    "# Output: True\n",
    "\n",
    "root = TreeNode(None)\n",
    "check_tree(root) # should return False since the root is None\n",
    "# Output: False"
   ]
  },
  {
   "cell_type": "code",
   "execution_count": null,
   "metadata": {},
   "outputs": [],
   "source": [
    "class TreeNode:\n",
    "    def __init__(self, val, left=None, right=None):\n",
    "        self.val = val\n",
    "        self.left = left\n",
    "        self.right = right\n",
    "\n",
    "def left_most(root):\n",
    "    # base case: if the root is Empty, return None\n",
    "    if root is None:\n",
    "        return None\n",
    "    # if the root's left child is None, then root is the most left child, return the root's value\n",
    "    if root.left is None:\n",
    "        return root.val\n",
    "    # otherwise, keep recursively calling the left_most function on the left child of the root\n",
    "    # until we reach the left most child\n",
    "    if root.left:\n",
    "        return left_most(root.left)\n",
    "    \n",
    "root = TreeNode(1)\n",
    "root.left = TreeNode(2)\n",
    "root.right = TreeNode(5)\n",
    "root.left.left = TreeNode(4)\n",
    "root.left.right = TreeNode(3)\n",
    "left_most(root) # should return 4\n",
    "# Output: 4"
   ]
  },
  {
   "cell_type": "markdown",
   "metadata": {},
   "source": [
    "Session 2"
   ]
  },
  {
   "cell_type": "code",
   "execution_count": 16,
   "metadata": {},
   "outputs": [
    {
     "data": {
      "text/plain": [
       "True"
      ]
     },
     "execution_count": 16,
     "metadata": {},
     "output_type": "execute_result"
    }
   ],
   "source": [
    "class TreeNode():\n",
    "     def __init__(self, value, left=None, right=None):\n",
    "         self.val = value\n",
    "         self.left = left\n",
    "         self.right = right\n",
    "         \n",
    "def is_univalued(root):\n",
    "\t# check if each node has the same value as the root node\n",
    "    if root is None:\n",
    "        return True\n",
    "    if root.left and root.val != root.left.val:\n",
    "        return False\n",
    "    if root.right and root.val != root.right.val:\n",
    "        return False\n",
    "    return is_univalued(root.left) and is_univalued(root.right)\n",
    "\n",
    "# initialize the tree nodes with all values equal to 1\n",
    "root = TreeNode(1)\n",
    "root.left = TreeNode(1)\n",
    "root.right = TreeNode(1)\n",
    "root.left.left = TreeNode(1)\n",
    "root.left.right = TreeNode(1)\n",
    "root.right.left = TreeNode(1)\n",
    "root.right.right = TreeNode(1)\n",
    "\n",
    "is_univalued(root) # should return True\n",
    "# Output: True"
   ]
  },
  {
   "cell_type": "code",
   "execution_count": 18,
   "metadata": {},
   "outputs": [
    {
     "data": {
      "text/plain": [
       "1"
      ]
     },
     "execution_count": 18,
     "metadata": {},
     "output_type": "execute_result"
    }
   ],
   "source": [
    "class TreeNode():\n",
    "     def __init__(self, value, left=None, right=None):\n",
    "         self.val = value\n",
    "         self.left = left\n",
    "         self.right = right\n",
    "   \n",
    "def height(root):\n",
    "\t# edge case: if the tree is empty, return height 0\n",
    "     \n",
    "    if not root:\n",
    "          return 0\n",
    "    #calculate the height of left subtree\n",
    "    left_height = height(root.left) # call the height function on the left child of the root\n",
    "    #calculate the height of right subtree\n",
    "    right_height = height(root.right) # call the height function on the right child of the root\n",
    "\n",
    "    # return the maximum height of the left and right subtrees + 1 for the root node\n",
    "    return max(left_height, right_height) + 1\n",
    "\n",
    "# Example Input Tree #1\n",
    "\n",
    "#       4\n",
    "#      / \\\n",
    "#     /   \\\n",
    "#    2     5\n",
    "#   / \\    \n",
    "#  1   3    \n",
    "\n",
    "# Input: root = 4\n",
    "# Expected Output: 3\n",
    "\n",
    "# Example Input Tree #2 \n",
    "\n",
    "#       4 \n",
    "\n",
    "# Input: root = 4\n",
    "# Expected Output: 1\n",
    "\n",
    "# initialize the tree of example 1\n",
    "root = TreeNode(4)\n",
    "root.left = TreeNode(2)\n",
    "root.right = TreeNode(5)\n",
    "root.left.left = TreeNode(1)\n",
    "root.left.right = TreeNode(3)\n",
    "\n",
    "height(root) # should return 3\n",
    "\n",
    "# initialize the tree of example 2\n",
    "root = TreeNode(4)\n",
    "height(root) # should return 1"
   ]
  }
 ],
 "metadata": {
  "kernelspec": {
   "display_name": "Python 3",
   "language": "python",
   "name": "python3"
  },
  "language_info": {
   "codemirror_mode": {
    "name": "ipython",
    "version": 3
   },
   "file_extension": ".py",
   "mimetype": "text/x-python",
   "name": "python",
   "nbconvert_exporter": "python",
   "pygments_lexer": "ipython3",
   "version": "3.11.3"
  }
 },
 "nbformat": 4,
 "nbformat_minor": 2
}
