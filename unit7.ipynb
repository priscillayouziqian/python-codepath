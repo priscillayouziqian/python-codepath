{
 "cells": [
  {
   "cell_type": "code",
   "execution_count": 2,
   "metadata": {},
   "outputs": [
    {
     "data": {
      "text/plain": [
       "5"
      ]
     },
     "execution_count": 2,
     "metadata": {},
     "output_type": "execute_result"
    }
   ],
   "source": [
    "def fib_iterative(n):\n",
    "    \"\"\"\n",
    "    assume (edge case) n is a positive integer, no larger than 10\n",
    "    \"\"\"\n",
    "\n",
    "    # base case - brakes\n",
    "    # that will be when n is 1 or 0\n",
    "    if n == 0:\n",
    "        return 0\n",
    "    elif n == 1:\n",
    "        return 1\n",
    "\n",
    "    # work - adding the current to the next value\n",
    "\n",
    "    # engine go - recursion\n",
    "    # tap brakes - decrementing n\n",
    "    return fib_iterative(n - 1) + fib_iterative(n - 2)\n",
    "\n",
    "fib_iterative(5)"
   ]
  },
  {
   "cell_type": "code",
   "execution_count": null,
   "metadata": {},
   "outputs": [
    {
     "name": "stdout",
     "output_type": "stream",
     "text": [
      "Hello\n",
      "Hello\n",
      "Hello\n",
      "Hello\n",
      "Hello\n"
     ]
    }
   ],
   "source": [
    "def repeat_hello(n):\n",
    "\tif n > 0: # space for recursion is O(n)\n",
    "\t\tprint(\"Hello\")\n",
    "\t\trepeat_hello(n - 1)\n",
    "\t\t\n",
    "def repeat_hello_iterative(n):\n",
    "\tfor _ in range(n): # space for loops is O(n)\n",
    "\t\tprint(\"Hello\")\n",
    "\t\t\n",
    "# repeat_hello(5)\n",
    "repeat_hello_iterative(5)"
   ]
  },
  {
   "cell_type": "code",
   "execution_count": 6,
   "metadata": {},
   "outputs": [
    {
     "data": {
      "text/plain": [
       "120"
      ]
     },
     "execution_count": 6,
     "metadata": {},
     "output_type": "execute_result"
    }
   ],
   "source": [
    "def factorial(n):\n",
    "\tif n == 0 or n == 1:\n",
    "\t\treturn 1\n",
    "\t\n",
    "\treturn n * factorial(n - 1)\n",
    "\n",
    "factorial(5)"
   ]
  },
  {
   "cell_type": "code",
   "execution_count": null,
   "metadata": {},
   "outputs": [
    {
     "data": {
      "text/plain": [
       "15"
      ]
     },
     "execution_count": 7,
     "metadata": {},
     "output_type": "execute_result"
    }
   ],
   "source": [
    "def sum_list(lst):\n",
    "\t# base case - brakes\n",
    "    if len(lst) == 0:\n",
    "        return 0\n",
    "\n",
    "    # work - adding the current to the next value\n",
    "    # engine go - recursion\n",
    "    # tap brakes - decrementing n\n",
    "    return lst[0] + sum_list(lst[1:])\n",
    "\n",
    "sum_list([1, 2, 3, 4, 5])\n"
   ]
  },
  {
   "cell_type": "code",
   "execution_count": null,
   "metadata": {},
   "outputs": [],
   "source": [
    "def is_power_of_two(n):\n",
    "\t#Given an integer n, return True if n is a power of two. Otherwise, return `False``.\n",
    "\n",
    "    # An integer n is a power of two if there exists an integer x such that n == 2ˣ.\n",
    "    # base case - brakes\n",
    "    if n == 1:\n",
    "        return True\n",
    "    elif n < 1 or n % 2 != 0: # if n is not a power of two, it will be odd\n",
    "        return False\n",
    "    \n",
    "    # work - dividing the current to the next value\n",
    "    # engine go - recursion\n",
    "    # tap brakes - decrementing n\n",
    "\n",
    "    # 2^0 = 1, 2^1 = 2, 2^2 = 4, 2^3 = 8, 2^4 = 16, 2^5 = 32, 2^6 = 64, 2^7 = 128, 2^8 = 256, 2^9 = 512。 2的N次方都能被2整除\n",
    "    return is_power_of_two(n // 2) # // return 除法里的“商”部分，% return 除法里的“余数”部分。e.g 5 // 2 = 2(不能整除，余1), 10 // 2 = 5（能整除，余0）\n"
   ]
  },
  {
   "cell_type": "markdown",
   "metadata": {},
   "source": [
    "Session 2"
   ]
  },
  {
   "cell_type": "code",
   "execution_count": null,
   "metadata": {},
   "outputs": [
    {
     "data": {
      "text/plain": [
       "True"
      ]
     },
     "execution_count": 12,
     "metadata": {},
     "output_type": "execute_result"
    }
   ],
   "source": [
    "def is_nested(paren_s):\n",
    "    # Given a string, return True if it is a nesting of zero or more pairs of parentheses. Return False otherwise. A valid pair of parentheses is defined as (). The input string will only contain the characters ( or ). Your solution must be recursive.\n",
    "    # U-input is empty, return false\n",
    "    if paren_s == \"\": \n",
    "        # return True if it is a nesting of zero \n",
    "        return True\n",
    "    # base case - brakes\n",
    "    if paren_s == \"()\":\n",
    "        return True\n",
    "    elif paren_s[0] == \")\" or paren_s[-1] == \"(\":\n",
    "        return False\n",
    "    # work - removing the current to the next value\n",
    "    # engine go - recursion\n",
    "    # tap brakes - decrementing n\n",
    "    return is_nested(paren_s[1:-1]) # remove the first and last character\n",
    "\n",
    "is_nested(\"\") # True\n",
    "# is_nested(\"()\") # True\n",
    "# is_nested(\")(\") # False\n",
    "# is_nested(\"(()())\") # True\n",
    "# is_nested(\"(())\") # True\n",
    "    "
   ]
  },
  {
   "cell_type": "code",
   "execution_count": 21,
   "metadata": {},
   "outputs": [
    {
     "data": {
      "text/plain": [
       "3"
      ]
     },
     "execution_count": 21,
     "metadata": {},
     "output_type": "execute_result"
    }
   ],
   "source": [
    "def count_ones(lst):\n",
    "\t#  Given a sorted list of integers containing only 0s and 1s, count the total number of 1’s in the array in O(log n) time.\n",
    "    \n",
    "    low, high = 0, len(lst) - 1\n",
    "    while low <= high:\n",
    "        mid = (low + high) // 2\n",
    "        if lst[mid] == 0:\n",
    "            low = mid + 1\n",
    "        else:\n",
    "            high = mid - 1\n",
    "    \n",
    "    # Check if low is within the array bounds and points to a 1\n",
    "    if low < len(lst) and lst[low] == 1:\n",
    "        return len(lst) - low\n",
    "    return 0\n",
    "    \n",
    "\n",
    "\n",
    "\n",
    "# Example Input: [0, 0, 0, 0, 1, 1, 1]\n",
    "# count_ones([0, 0, 0, 0, 1, 1, 1])\n",
    "# count_ones([0, 0, 0, 0, 0, 0, 0]) # Expected Output: 0\n",
    "# count_ones([1, 1, 1, 1, 1, 1, 1])  # Expected Output: 7\n",
    "count_ones([0, 0, 0, 0, 1, 1, 1])  # Expected Output: 3"
   ]
  }
 ],
 "metadata": {
  "kernelspec": {
   "display_name": "Python 3",
   "language": "python",
   "name": "python3"
  },
  "language_info": {
   "codemirror_mode": {
    "name": "ipython",
    "version": 3
   },
   "file_extension": ".py",
   "mimetype": "text/x-python",
   "name": "python",
   "nbconvert_exporter": "python",
   "pygments_lexer": "ipython3",
   "version": "3.11.3"
  }
 },
 "nbformat": 4,
 "nbformat_minor": 2
}
