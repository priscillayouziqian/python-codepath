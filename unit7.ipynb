{
 "cells": [
  {
   "cell_type": "code",
   "execution_count": 2,
   "metadata": {},
   "outputs": [
    {
     "data": {
      "text/plain": [
       "5"
      ]
     },
     "execution_count": 2,
     "metadata": {},
     "output_type": "execute_result"
    }
   ],
   "source": [
    "def fib_iterative(n):\n",
    "    \"\"\"\n",
    "    assume (edge case) n is a positive integer, no larger than 10\n",
    "    \"\"\"\n",
    "\n",
    "    # base case - brakes\n",
    "    # that will be when n is 1 or 0\n",
    "    if n == 0:\n",
    "        return 0\n",
    "    elif n == 1:\n",
    "        return 1\n",
    "\n",
    "    # work - adding the current to the next value\n",
    "\n",
    "    # engine go - recursion\n",
    "    # tap brakes - decrementing n\n",
    "    return fib_iterative(n - 1) + fib_iterative(n - 2)\n",
    "\n",
    "fib_iterative(5)"
   ]
  },
  {
   "cell_type": "code",
   "execution_count": null,
   "metadata": {},
   "outputs": [
    {
     "name": "stdout",
     "output_type": "stream",
     "text": [
      "Hello\n",
      "Hello\n",
      "Hello\n",
      "Hello\n",
      "Hello\n"
     ]
    }
   ],
   "source": [
    "def repeat_hello(n):\n",
    "\tif n > 0: # space for recursion is O(n)\n",
    "\t\tprint(\"Hello\")\n",
    "\t\trepeat_hello(n - 1)\n",
    "\t\t\n",
    "def repeat_hello_iterative(n):\n",
    "\tfor _ in range(n): # space for loops is O(n)\n",
    "\t\tprint(\"Hello\")\n",
    "\t\t\n",
    "# repeat_hello(5)\n",
    "repeat_hello_iterative(5)"
   ]
  },
  {
   "cell_type": "code",
   "execution_count": 6,
   "metadata": {},
   "outputs": [
    {
     "data": {
      "text/plain": [
       "120"
      ]
     },
     "execution_count": 6,
     "metadata": {},
     "output_type": "execute_result"
    }
   ],
   "source": [
    "def factorial(n):\n",
    "\tif n == 0 or n == 1:\n",
    "\t\treturn 1\n",
    "\t\n",
    "\treturn n * factorial(n - 1)\n",
    "\n",
    "factorial(5)"
   ]
  },
  {
   "cell_type": "code",
   "execution_count": null,
   "metadata": {},
   "outputs": [
    {
     "data": {
      "text/plain": [
       "15"
      ]
     },
     "execution_count": 7,
     "metadata": {},
     "output_type": "execute_result"
    }
   ],
   "source": [
    "def sum_list(lst):\n",
    "\t# base case - brakes\n",
    "    if len(lst) == 0:\n",
    "        return 0\n",
    "\n",
    "    # work - adding the current to the next value\n",
    "    # engine go - recursion\n",
    "    # tap brakes - decrementing n\n",
    "    return lst[0] + sum_list(lst[1:])\n",
    "\n",
    "sum_list([1, 2, 3, 4, 5])\n"
   ]
  },
  {
   "cell_type": "code",
   "execution_count": null,
   "metadata": {},
   "outputs": [],
   "source": [
    "def is_power_of_two(n):\n",
    "\t#Given an integer n, return True if n is a power of two. Otherwise, return `False``.\n",
    "\n",
    "    # An integer n is a power of two if there exists an integer x such that n == 2ˣ.\n",
    "    # base case - brakes\n",
    "    if n == 1:\n",
    "        return True\n",
    "    elif n < 1 or n % 2 != 0: # if n is not a power of two, it will be odd\n",
    "        return False\n",
    "    \n",
    "    # work - dividing the current to the next value\n",
    "    # engine go - recursion\n",
    "    # tap brakes - decrementing n\n",
    "\n",
    "    # 2^0 = 1, 2^1 = 2, 2^2 = 4, 2^3 = 8, 2^4 = 16, 2^5 = 32, 2^6 = 64, 2^7 = 128, 2^8 = 256, 2^9 = 512。 2的N次方都能被2整除\n",
    "    return is_power_of_two(n // 2) # // return 除法里的“商”部分，% return 除法里的“余数”部分。e.g 5 // 2 = 2(不能整除，余1), 10 // 2 = 5（能整除，余0）\n"
   ]
  }
 ],
 "metadata": {
  "kernelspec": {
   "display_name": "Python 3",
   "language": "python",
   "name": "python3"
  },
  "language_info": {
   "codemirror_mode": {
    "name": "ipython",
    "version": 3
   },
   "file_extension": ".py",
   "mimetype": "text/x-python",
   "name": "python",
   "nbconvert_exporter": "python",
   "pygments_lexer": "ipython3",
   "version": "3.11.3"
  }
 },
 "nbformat": 4,
 "nbformat_minor": 2
}
