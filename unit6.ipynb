{
 "cells": [
  {
   "cell_type": "code",
   "execution_count": 1,
   "metadata": {},
   "outputs": [
    {
     "name": "stdout",
     "output_type": "stream",
     "text": [
      "0\n"
     ]
    }
   ],
   "source": [
    "class Node:\n",
    "\tdef __init__(self, value, next=None):\n",
    "\t\tself.value = value\n",
    "\t\tself.next = next\n",
    "\n",
    "def count_element(head, val):\n",
    "    counter = 0          \n",
    "    current = head     \n",
    "    while current:     \n",
    "        if current.value == val:\n",
    "            counter += 1\n",
    "        current = current.next\n",
    "    return counter\n",
    "\n",
    "num1 = Node(\"num1\", Node(\"num2\", Node(\"num3\", Node(\"num1\"))))\n",
    "print(count_element(num1, 1))"
   ]
  },
  {
   "cell_type": "code",
   "execution_count": null,
   "metadata": {},
   "outputs": [
    {
     "name": "stdout",
     "output_type": "stream",
     "text": [
      "True\n"
     ]
    }
   ],
   "source": [
    "class Node:\n",
    "    def __init__(self, val, next=None):\n",
    "        self.value = val\n",
    "        self.next = next\n",
    "\n",
    "def has_cycle(head):\n",
    "    if not head:\n",
    "        return False\n",
    "    \n",
    "    slow = head  # Starts at the head\n",
    "    fast = head  # Also starts at the head\n",
    "\n",
    "    while fast and fast.next:\n",
    "        slow = slow.next          # Move slow pointer by one\n",
    "        fast = fast.next.next     # Move fast pointer by two\n",
    "\n",
    "        if slow == fast:          # If they meet, there's a cycle\n",
    "            return True\n",
    "    \n",
    "    return False\n",
    "\n",
    "# num1 = Node(1, Node(2, Node(3, num1)))\n",
    "num1 = Node(1)\n",
    "num2 = Node(2)\n",
    "num3 = Node(3)\n",
    "\n",
    "num1.next = num2\n",
    "num2.next = num3\n",
    "num3.next = num1  # Making it circular\n",
    "print(has_cycle(num1))"
   ]
  },
  {
   "cell_type": "code",
   "execution_count": 9,
   "metadata": {},
   "outputs": [
    {
     "name": "stdout",
     "output_type": "stream",
     "text": [
      "2\n"
     ]
    }
   ],
   "source": [
    "class Node:\n",
    "    def __init__(self, value, next_node = None, prev_node = None):\n",
    "        self.value = value\n",
    "        self.next = next_node\n",
    "        self.prev = prev_node\n",
    "        \n",
    "def mystery_function(head):\n",
    "    if head is None:\n",
    "        return None\n",
    "    output_node = head.next\n",
    "    if output_node is not None:\n",
    "        output_node.prev = None\n",
    "    head.next = None\n",
    "\n",
    "    return output_node\n",
    "\n",
    "head = Node(1)\n",
    "second = Node(2)\n",
    "third = Node(3)\n",
    "head.next = second\n",
    "second.prev = head\n",
    "second.next = third\n",
    "third.prev = second\n",
    "\n",
    "head = mystery_function(head)\n",
    "print(head.value)  # 2"
   ]
  },
  {
   "cell_type": "code",
   "execution_count": 10,
   "metadata": {},
   "outputs": [
    {
     "name": "stdout",
     "output_type": "stream",
     "text": [
      "[2, 4]\n"
     ]
    }
   ],
   "source": [
    "class Node:\n",
    "    def __init__(self, value, next_node = None):\n",
    "        self.value = value\n",
    "        self.next = next_node\n",
    "\n",
    "def mystery_function(head):\n",
    "    current = head\n",
    "    output = []\n",
    "\n",
    "    while current:\n",
    "        if current.value % 2 == 0:\n",
    "            output.append(current.value)\n",
    "        current = current.next\n",
    "    \n",
    "    return output\n",
    "\n",
    "head = Node(1, Node(2, Node(3, Node(4))))\n",
    "output = mystery_function(head)\n",
    "print(output)  # [2, 4]"
   ]
  },
  {
   "cell_type": "code",
   "execution_count": null,
   "metadata": {},
   "outputs": [
    {
     "name": "stdout",
     "output_type": "stream",
     "text": [
      "e\n"
     ]
    }
   ],
   "source": [
    "# write a function find_nth_from_end that finds the nth node from the end of the list and returns its value.\n",
    "# Example Input: 2\n",
    "# a->b->c->d->e->f\n",
    "# Output: e\n",
    "\n",
    "class Node:\n",
    "    def __init__(self, value, next_node = None):\n",
    "        self.value = value\n",
    "        self.next = next_node\n",
    "\n",
    "def find_nth_from_end(head, n):\n",
    "    slow = head\n",
    "    fast = head\n",
    "\n",
    "    # Move the fast pointer n nodes ahead\n",
    "    for _ in range(n):\n",
    "        # If n is greater than the number of nodes in the list\n",
    "        if fast is None:\n",
    "            return None\n",
    "        fast = fast.next\n",
    "\n",
    "    while fast:\n",
    "        slow = slow.next\n",
    "        fast = fast.next\n",
    "\n",
    "    return slow.value\n",
    "\n",
    "head = Node(\"a\", Node(\"b\", Node(\"c\", Node(\"d\", Node(\"e\", Node(\"f\"))))))\n",
    "print(find_nth_from_end(head, 2))  # e"
   ]
  }
 ],
 "metadata": {
  "kernelspec": {
   "display_name": "Python 3",
   "language": "python",
   "name": "python3"
  },
  "language_info": {
   "codemirror_mode": {
    "name": "ipython",
    "version": 3
   },
   "file_extension": ".py",
   "mimetype": "text/x-python",
   "name": "python",
   "nbconvert_exporter": "python",
   "pygments_lexer": "ipython3",
   "version": "3.11.3"
  }
 },
 "nbformat": 4,
 "nbformat_minor": 2
}
