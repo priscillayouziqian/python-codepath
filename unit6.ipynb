{
 "cells": [
  {
   "cell_type": "code",
   "execution_count": 1,
   "metadata": {},
   "outputs": [
    {
     "name": "stdout",
     "output_type": "stream",
     "text": [
      "0\n"
     ]
    }
   ],
   "source": [
    "class Node:\n",
    "\tdef __init__(self, value, next=None):\n",
    "\t\tself.value = value\n",
    "\t\tself.next = next\n",
    "\n",
    "def count_element(head, val):\n",
    "    counter = 0          \n",
    "    current = head     \n",
    "    while current:     \n",
    "        if current.value == val:\n",
    "            counter += 1\n",
    "        current = current.next\n",
    "    return counter\n",
    "\n",
    "num1 = Node(\"num1\", Node(\"num2\", Node(\"num3\", Node(\"num1\"))))\n",
    "print(count_element(num1, 1))"
   ]
  },
  {
   "cell_type": "code",
   "execution_count": null,
   "metadata": {},
   "outputs": [
    {
     "name": "stdout",
     "output_type": "stream",
     "text": [
      "True\n"
     ]
    }
   ],
   "source": [
    "class Node:\n",
    "    def __init__(self, val, next=None):\n",
    "        self.value = val\n",
    "        self.next = next\n",
    "\n",
    "def has_cycle(head):\n",
    "    if not head:\n",
    "        return False\n",
    "    \n",
    "    slow = head  # Starts at the head\n",
    "    fast = head  # Also starts at the head\n",
    "\n",
    "    while fast and fast.next:\n",
    "        slow = slow.next          # Move slow pointer by one\n",
    "        fast = fast.next.next     # Move fast pointer by two\n",
    "\n",
    "        if slow == fast:          # If they meet, there's a cycle\n",
    "            return True\n",
    "    \n",
    "    return False\n",
    "\n",
    "# num1 = Node(1, Node(2, Node(3, num1)))\n",
    "num1 = Node(1)\n",
    "num2 = Node(2)\n",
    "num3 = Node(3)\n",
    "\n",
    "num1.next = num2\n",
    "num2.next = num3\n",
    "num3.next = num1  # Making it circular\n",
    "print(has_cycle(num1))"
   ]
  },
  {
   "cell_type": "code",
   "execution_count": 9,
   "metadata": {},
   "outputs": [
    {
     "name": "stdout",
     "output_type": "stream",
     "text": [
      "2\n"
     ]
    }
   ],
   "source": [
    "class Node:\n",
    "    def __init__(self, value, next_node = None, prev_node = None):\n",
    "        self.value = value\n",
    "        self.next = next_node\n",
    "        self.prev = prev_node\n",
    "        \n",
    "def mystery_function(head):\n",
    "    if head is None:\n",
    "        return None\n",
    "    output_node = head.next\n",
    "    if output_node is not None:\n",
    "        output_node.prev = None\n",
    "    head.next = None\n",
    "\n",
    "    return output_node\n",
    "\n",
    "head = Node(1)\n",
    "second = Node(2)\n",
    "third = Node(3)\n",
    "head.next = second\n",
    "second.prev = head\n",
    "second.next = third\n",
    "third.prev = second\n",
    "\n",
    "head = mystery_function(head)\n",
    "print(head.value)  # 2"
   ]
  },
  {
   "cell_type": "code",
   "execution_count": 10,
   "metadata": {},
   "outputs": [
    {
     "name": "stdout",
     "output_type": "stream",
     "text": [
      "[2, 4]\n"
     ]
    }
   ],
   "source": [
    "class Node:\n",
    "    def __init__(self, value, next_node = None):\n",
    "        self.value = value\n",
    "        self.next = next_node\n",
    "\n",
    "def mystery_function(head):\n",
    "    current = head\n",
    "    output = []\n",
    "\n",
    "    while current:\n",
    "        if current.value % 2 == 0:\n",
    "            output.append(current.value)\n",
    "        current = current.next\n",
    "    \n",
    "    return output\n",
    "\n",
    "head = Node(1, Node(2, Node(3, Node(4))))\n",
    "output = mystery_function(head)\n",
    "print(output)  # [2, 4]"
   ]
  },
  {
   "cell_type": "code",
   "execution_count": null,
   "metadata": {},
   "outputs": [
    {
     "name": "stdout",
     "output_type": "stream",
     "text": [
      "e\n"
     ]
    }
   ],
   "source": [
    "# write a function find_nth_from_end that finds the nth node from the end of the list and returns its value.\n",
    "# Example Input: 2\n",
    "# a->b->c->d->e->f\n",
    "# Output: e\n",
    "\n",
    "class Node:\n",
    "    def __init__(self, value, next_node = None):\n",
    "        self.value = value\n",
    "        self.next = next_node\n",
    "\n",
    "def find_nth_from_end(head, n):\n",
    "    slow = head\n",
    "    fast = head\n",
    "\n",
    "    # Move the fast pointer n nodes ahead\n",
    "    for _ in range(n):\n",
    "        # If n is greater than the number of nodes in the list\n",
    "        if fast is None:\n",
    "            return None\n",
    "        fast = fast.next\n",
    "\n",
    "    while fast:\n",
    "        slow = slow.next\n",
    "        fast = fast.next\n",
    "\n",
    "    return slow.value\n",
    "\n",
    "head = Node(\"a\", Node(\"b\", Node(\"c\", Node(\"d\", Node(\"e\", Node(\"f\"))))))\n",
    "print(find_nth_from_end(head, 2))  # e"
   ]
  },
  {
   "cell_type": "code",
   "execution_count": null,
   "metadata": {},
   "outputs": [
    {
     "name": "stdout",
     "output_type": "stream",
     "text": [
      "0 -> 1 -> 2 -> 3 -> 4 -> None\n",
      "2\n",
      "2\n",
      "0 -> 1 -> 2 -> 3 -> 4 -> 5 -> None\n",
      "3\n",
      "3\n"
     ]
    }
   ],
   "source": [
    "\n",
    "\n",
    "class Node:\n",
    "    def __init__(self, value, next=None):\n",
    "        self.value = value\n",
    "        self.next = next\n",
    "    \n",
    "    def create_ll_of_size(size):\n",
    "        if not size:\n",
    "            return None\n",
    "        head = Node(0)\n",
    "        current = head\n",
    "        for i in range(1, size):\n",
    "            current.next = Node(i)\n",
    "            current = current.next\n",
    "        return head\n",
    "    \n",
    "    def __repr__(self):\n",
    "        return f\"{self.value} -> {repr(self.next)}\"\n",
    "    \n",
    "# both functions, time complexity is O(n) and space complexity is O(1)\n",
    "def get_center_node_multi_pass(head):\n",
    "    length = 0\n",
    "    current = head\n",
    "    while current:\n",
    "        length += 1\n",
    "        current = current.next\n",
    "    current = head\n",
    "    for _ in range(length // 2):\n",
    "        current = current.next\n",
    "    return current\n",
    "def get_center_node_fast_slow(head):\n",
    "    fast = head\n",
    "    slow = head\n",
    "    while fast:\n",
    "        fast = fast.next\n",
    "        if not fast:\n",
    "            return slow\n",
    "        slow = slow.next\n",
    "        fast = fast.next\n",
    "    return slow\n",
    "\n",
    "\n",
    "ll_head_5 = Node.create_ll_of_size(5)\n",
    "print(ll_head_5)\n",
    "print(get_center_node_multi_pass(ll_head_5).value)\n",
    "print(get_center_node_fast_slow(ll_head_5).value)\n",
    "ll_head_6 = Node.create_ll_of_size(6)\n",
    "print(ll_head_6)\n",
    "print(get_center_node_multi_pass(ll_head_6).value)\n",
    "print(get_center_node_fast_slow(ll_head_6).value)"
   ]
  },
  {
   "cell_type": "code",
   "execution_count": null,
   "metadata": {},
   "outputs": [
    {
     "data": {
      "text/plain": [
       "{'SZA': 2, 'Jimin': 1, 'Sabrina Carpenter': 1}"
      ]
     },
     "execution_count": 4,
     "metadata": {},
     "output_type": "execute_result"
    }
   ],
   "source": [
    "class SongNode:\n",
    "\tdef __init__(self, song, artist, next=None):\n",
    "\t\tself.song = song\n",
    "\t\tself.artist = artist\n",
    "\t\tself.next = next\n",
    "\n",
    "# For testing\n",
    "def print_linked_list(node):\n",
    "    current = node\n",
    "    while current:\n",
    "        print((current.song, current.artist), end=\" -> \" if current.next else \"\")\n",
    "        current = current.next\n",
    "    print()\n",
    "\n",
    "def get_artist_frequency(playlist):\n",
    "    \n",
    "    artist_frequencies = {}  # Initialize an empty dictionary to store artist counts\n",
    "    current_node = playlist  # Start traversing from the head of the playlist\n",
    "\n",
    "    # Iterate through the linked list until the end (current_node becomes None)\n",
    "    while current_node is not None:\n",
    "        artist = current_node.artist  # Get the artist name from the current node\n",
    "\n",
    "        # Increment the count for the artist in the dictionary\n",
    "        # If the artist is not already in the dictionary, it's added with a count of 1.\n",
    "        # Otherwise, its existing count is incremented by 1.\n",
    "        artist_frequencies[artist] = artist_frequencies.get(artist, 0) + 1\n",
    "\n",
    "        # Move to the next node in the linked list\n",
    "        current_node = current_node.next\n",
    "\n",
    "    return artist_frequencies\n",
    "\n",
    "# Example Usage:\n",
    "playlist = SongNode(\"Saturn\", \"SZA\",\n",
    "                SongNode(\"Who\", \"Jimin\",\n",
    "                        SongNode(\"Espresso\", \"Sabrina Carpenter\",\n",
    "                                SongNode(\"Snooze\", \"SZA\"))))\n",
    "\n",
    "get_artist_frequency(playlist)\n",
    "\n"
   ]
  },
  {
   "cell_type": "code",
   "execution_count": 8,
   "metadata": {},
   "outputs": [
    {
     "name": "stdout",
     "output_type": "stream",
     "text": [
      "('SOS', 'ABBA') -> ('Simple Twist of Fate', 'Bob Dylan') -> ('Lovely Day', 'Bill Withers')\n"
     ]
    }
   ],
   "source": [
    "class SongNode:\n",
    "\tdef __init__(self, song, artist, next=None):\n",
    "\t\tself.song = song\n",
    "\t\tself.artist = artist\n",
    "\t\tself.next = next\n",
    "\n",
    "# For testing\n",
    "def print_linked_list(node):\n",
    "    current = node\n",
    "    while current:\n",
    "        print((current.song, current.artist), end=\" -> \" if current.next else \"\")\n",
    "        current = current.next\n",
    "    print()\n",
    "\n",
    "\n",
    "# Function with a bug!\n",
    "def remove_song(playlist_head, song):\n",
    "    if not playlist_head:\n",
    "        return None\n",
    "    if playlist_head.song == song:\n",
    "        return playlist_head.next\n",
    "\n",
    "    current = playlist_head\n",
    "    while current.next:\n",
    "        if current.next.song == song:\n",
    "            current.next = current.next.next  \n",
    "            return playlist_head \n",
    "        current = current.next\n",
    "\n",
    "    return playlist_head\n",
    "\n",
    "playlist = SongNode(\"SOS\", \"ABBA\", \n",
    "                SongNode(\"Simple Twist of Fate\", \"Bob Dylan\",\n",
    "                    SongNode(\"Dreams\", \"Fleetwood Mac\",\n",
    "                        SongNode(\"Lovely Day\", \"Bill Withers\"))))\n",
    "\n",
    "print_linked_list(remove_song(playlist, \"Dreams\"))"
   ]
  },
  {
   "cell_type": "code",
   "execution_count": 18,
   "metadata": {},
   "outputs": [
    {
     "name": "stdout",
     "output_type": "stream",
     "text": [
      "None\n"
     ]
    }
   ],
   "source": [
    "class SongNode:\n",
    "\tdef __init__(self, song, artist, next=None):\n",
    "\t\tself.song = song\n",
    "\t\tself.artist = artist\n",
    "\t\tself.next = next\n",
    "\n",
    "def on_repeat(playlist_head):\n",
    "\tpass\n",
    "\n",
    "song1 = SongNode(\"GO!\", \"Common\")\n",
    "song2 = SongNode(\"N95\", \"Kendrick Lamar\")\n",
    "song3 = SongNode(\"WIN\", \"Jay Rock\")\n",
    "song4 = SongNode(\"ATM\", \"J. Cole\")\n",
    "song1.next = song2\n",
    "song2.next = song3\n",
    "song3.next = song4\n",
    "song4.next = song2\n",
    "\n",
    "print(on_repeat(song1))"
   ]
  }
 ],
 "metadata": {
  "kernelspec": {
   "display_name": "Python 3",
   "language": "python",
   "name": "python3"
  },
  "language_info": {
   "codemirror_mode": {
    "name": "ipython",
    "version": 3
   },
   "file_extension": ".py",
   "mimetype": "text/x-python",
   "name": "python",
   "nbconvert_exporter": "python",
   "pygments_lexer": "ipython3",
   "version": "3.11.3"
  }
 },
 "nbformat": 4,
 "nbformat_minor": 2
}
