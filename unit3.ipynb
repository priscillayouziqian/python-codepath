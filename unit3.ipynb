{
 "cells": [
  {
   "cell_type": "markdown",
   "metadata": {},
   "source": [
    "Write a function swap_ends() that accepts a string my_str as a parameter and returns a new string where the first and last characters from my_str are swapped."
   ]
  },
  {
   "cell_type": "code",
   "execution_count": null,
   "metadata": {},
   "outputs": [
    {
     "name": "stdout",
     "output_type": "stream",
     "text": [
      "toab\n"
     ]
    }
   ],
   "source": [
    "def swap_ends(my_str):\n",
    "    # last char + middle + first char\n",
    "    # middle : [start, end(not included)]\n",
    "    return my_str[-1] + my_str[1:-1] + my_str[0]\n",
    "\n",
    "my_str = \"boat\"\n",
    "swapped = swap_ends(my_str)\n",
    "print(swapped)"
   ]
  },
  {
   "cell_type": "markdown",
   "metadata": {},
   "source": [
    "Write a function is_pangram() that takes in a string my_str as a parameter and returns True if the string is a pangram and False if not. A pangram is a sentence containing every letter in the English alphabet."
   ]
  },
  {
   "cell_type": "code",
   "execution_count": null,
   "metadata": {},
   "outputs": [
    {
     "name": "stdout",
     "output_type": "stream",
     "text": [
      "True\n",
      "False\n"
     ]
    }
   ],
   "source": [
    "def is_pangram(my_str):\n",
    "    # set of all letters in the alphabet\n",
    "    alphabet = set('abcdefghijklmnopqrstuvwxyz') # build an unordered, unchangeable*, and unindexed collection of unique elements\n",
    "\n",
    "    # Loop over each character of the alphabet string\n",
    "    for char in alphabet:\n",
    "        # If the character is in the input string, do nothing (keep looping)\n",
    "\n",
    "        #  If the character is not in the input string, return False\n",
    "        if char not in my_str.lower():\n",
    "            return False\n",
    "    \n",
    "    # If the loop ends and all characters are found, return True\n",
    "    return True\n",
    "\n",
    "my_str = \"The quick brown fox jumps over the lazy dog\"\n",
    "print(is_pangram(my_str))\n",
    "\n",
    "str2 = \"The dog jumped\"\n",
    "print(is_pangram(str2))"
   ]
  },
  {
   "cell_type": "markdown",
   "metadata": {},
   "source": [
    "Write a function reverse_string() that takes a string my_str as a parameter and returns the string reversed."
   ]
  },
  {
   "cell_type": "code",
   "execution_count": 3,
   "metadata": {},
   "outputs": [
    {
     "name": "stdout",
     "output_type": "stream",
     "text": [
      "evil\n"
     ]
    }
   ],
   "source": [
    "def reverse_string(my_str):\n",
    "  result = ''\n",
    "  for i in range(len(my_str)-1, -1, -1): # range(start, end-not inclusive, step)\n",
    "    # print(my_str[i])\n",
    "    result += my_str[i]\n",
    "  return result\n",
    "\n",
    "my_str = \"live\"\n",
    "print(reverse_string(my_str)) "
   ]
  },
  {
   "cell_type": "markdown",
   "metadata": {},
   "source": [
    "Write a function first_unique_char() that given a string my_str as a parameter, it finds the first non-repeating character in it and returns its index. If it does not exist, then return -1."
   ]
  },
  {
   "cell_type": "code",
   "execution_count": 4,
   "metadata": {},
   "outputs": [
    {
     "name": "stdout",
     "output_type": "stream",
     "text": [
      "0\n",
      "2\n",
      "-1\n"
     ]
    }
   ],
   "source": [
    "def first_unique_char(my_str):\n",
    "    # create frequency map\n",
    "    freq = {}\n",
    "    for s in my_str:\n",
    "      if s in freq:\n",
    "        freq[s] += 1\n",
    "      else:\n",
    "        freq[s] = 1\n",
    "    #  \"leetcode\"-----> {'l': 1, 'e': 3, 't': 1, 'c': 1, 'o': 1, 'd': 1}\n",
    "    # enumerate(list/dict/tuple) returns index# and element on each iterate\n",
    "    for index, char in enumerate(freq):\n",
    "      # freq[key] returns value, if value = 1 then the key is unique\n",
    "      if freq[char] == 1: # once the condition is met,The function stops executing immediately.The loop does not continue checking further elements.\n",
    "        return index\n",
    "    # If no character with value 1 is found in the dictionary, return -1\n",
    "    return -1\n",
    "    \n",
    "\n",
    "my_str = \"leetcode\"\n",
    "print(first_unique_char(my_str))\n",
    "\n",
    "str2 = \"loveleetcode\"\n",
    "print(first_unique_char(str2))\n",
    "\n",
    "str3 = \"aabb\"\n",
    "print(first_unique_char(str3))\n",
    "\n",
    "\n",
    "# 0\n",
    "# 2\n",
    "# -1"
   ]
  },
  {
   "cell_type": "code",
   "execution_count": 5,
   "metadata": {},
   "outputs": [
    {
     "name": "stdout",
     "output_type": "stream",
     "text": [
      "3\n",
      "1\n",
      "2\n"
     ]
    }
   ],
   "source": [
    "# Write a function min_distance() that takes in a list of strings words and two strings word1 and word2' as parameters. \n",
    "# The function should return the minimum distance between word1 and word2 in the list of words. \n",
    "# The distance between one word and an adjacent word in the list is 1.\n",
    "\n",
    "def min_distance(words, word1, word2):\n",
    "    # list.index(i) --> index #, not usable here because only return the first occurance of the index\n",
    "    temp_word1 = []\n",
    "    for index, word in enumerate(words):\n",
    "      if word == word1:\n",
    "        temp_word1.append(index)\n",
    "    \n",
    "    temp_word2 = []\n",
    "    for index, word in enumerate(words):\n",
    "      if word == word2:\n",
    "        temp_word2.append(index)\n",
    "\n",
    "    # find the last occrance of word1's index\n",
    "    word1_idx = temp_word1[-1]\n",
    "    # same - for word2\n",
    "    word2_idx = temp_word2[-1]\n",
    "    # store the difference of their index\n",
    "    difference = word1_idx - word2_idx\n",
    "    # make it absolute numbers\n",
    "    return abs(difference)\n",
    "    \n",
    "\n",
    "words = [\"the\", \"quick\", \"brown\", \"fox\", \"jumped\", \"the\"]\n",
    "dist1 = min_distance(words, \"quick\", \"jumped\")\n",
    "dist2 = min_distance(words, \"the\", \"jumped\")\n",
    "print(dist1)\n",
    "print(dist2)\n",
    "\n",
    "words2 = [\"code\", \"path\", \"code\", \"contribute\",  \"practice\"]\n",
    "dist3 = min_distance(words2, \"code\", \"practice\")\n",
    "print(dist3)"
   ]
  },
  {
   "cell_type": "markdown",
   "metadata": {},
   "source": [
    "Session 2"
   ]
  },
  {
   "cell_type": "code",
   "execution_count": 6,
   "metadata": {},
   "outputs": [
    {
     "name": "stdout",
     "output_type": "stream",
     "text": [
      "60\n"
     ]
    }
   ],
   "source": [
    "def sum_of_number_strings(s):\n",
    "    # Write a function sum_of_number_strings() that takes in a list of strings nums. Each string is a representations of integers. The function should return the sum of these strings as an integer.\n",
    "    total_sum = 0\n",
    "    for num_str in s:\n",
    "        total_sum += int(num_str)\n",
    "    return total_sum\n",
    "\n",
    "nums = [\"10\", \"20\", \"30\"]\n",
    "sum = sum_of_number_strings(nums)\n",
    "print(sum)"
   ]
  },
  {
   "cell_type": "code",
   "execution_count": null,
   "metadata": {},
   "outputs": [
    {
     "name": "stdout",
     "output_type": "stream",
     "text": [
      "6\n"
     ]
    }
   ],
   "source": [
    "# Write a function remove_duplicates() that takes in a sorted list of integers nums as a parameter and removes all duplicates in the list. The function returns the modified list.\n",
    "\n",
    "def remove_duplicates(nums):\n",
    "    # U - expect output, return modified list and length of the list\n",
    "    # edge case: if nums is a empty list, return 0\n",
    "    if not nums:\n",
    "        return 0\n",
    "    \n",
    "    # assume the first index is last unique element\n",
    "    i = 0\n",
    "\n",
    "    # loop through the list starting from index 1\n",
    "    for j in range(1, len(nums)):\n",
    "        # if the current element is different from the last unique element\n",
    "        if nums[j] != nums[i]:\n",
    "            # means i+1 is also a unique element, so make it the last unique element\n",
    "            i += 1\n",
    "            # since i updated, so current nums[j] is nums[i]\n",
    "            nums[i] = nums[j]\n",
    "\n",
    "    # i means the index of the last unique element, means the last index of the modified list, +1 becomes the length of the modified list\n",
    "    return i+1\n",
    "\n",
    "nums = [1,1,1,2,3,4,4,5,6,6]\n",
    "print(remove_duplicates(nums)) # [1,2,3,4,5,6]"
   ]
  },
  {
   "cell_type": "code",
   "execution_count": 8,
   "metadata": {},
   "outputs": [
    {
     "name": "stdout",
     "output_type": "stream",
     "text": [
      "j-Ih-gfE-dCba\n"
     ]
    }
   ],
   "source": [
    "def reverse_only_letters(s):\n",
    "  # U - param is a string, contains characters (letters and/or non-letters). non-letter char keeps the original index.\n",
    "  # expect: reverse the order of letters, returns a new string. \n",
    "  # since non-letter remains the original index --> for in loop, loop through original string, if non-letter, add the new string\n",
    "\n",
    "  letter = [] # contains all letter from original string by order\n",
    "  for char in s:\n",
    "    if char.isalpha():\n",
    "      letter.append(char) # append only letter character in the original string\n",
    "\n",
    "  # reverse only letter, so count the letter list from last index\n",
    "  index = len(letter) - 1 \n",
    "  reverse_str = ''\n",
    "  for char in s:\n",
    "    if char.isalpha():\n",
    "      reverse_str += letter[index] # the last letter in letter list, add to the first place to result string\n",
    "      index -= 1 # index -1, e.g. last index is 6, then move to index 5\n",
    "    else:\n",
    "      reverse_str += char # directly add non-letter with same original index to result string\n",
    "  \n",
    "  return reverse_str\n",
    "\n",
    "s = \"a-bC-dEf-ghIj\"\n",
    "reversed_s = reverse_only_letters(s)\n",
    "print(reversed_s)"
   ]
  }
 ],
 "metadata": {
  "kernelspec": {
   "display_name": "Python 3",
   "language": "python",
   "name": "python3"
  },
  "language_info": {
   "codemirror_mode": {
    "name": "ipython",
    "version": 3
   },
   "file_extension": ".py",
   "mimetype": "text/x-python",
   "name": "python",
   "nbconvert_exporter": "python",
   "pygments_lexer": "ipython3",
   "version": "3.11.3"
  }
 },
 "nbformat": 4,
 "nbformat_minor": 2
}
