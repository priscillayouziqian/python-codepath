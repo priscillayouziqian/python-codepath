{
 "cells": [
  {
   "cell_type": "code",
   "execution_count": null,
   "id": "79ab4ea6",
   "metadata": {},
   "outputs": [
    {
     "name": "stdout",
     "output_type": "stream",
     "text": [
      "True\n",
      "True\n",
      "False\n",
      "False\n",
      "True\n",
      "False\n",
      "False\n",
      "True\n"
     ]
    }
   ],
   "source": [
    "def is_valid(s):\n",
    "    \"\"\"\n",
    "    Given a string s containing just the characters '(', ')', '{', '}', '[' and ']', return True if the input string is valid and False otherwise.\n",
    "\n",
    "    An input string is valid if:\n",
    "\n",
    "    Open brackets must be closed by the same type of brackets.\n",
    "    Open brackets must be closed in the correct order.\n",
    "    Every close bracket has a corresponding open bracket of the same type.\n",
    "    \"\"\"\n",
    "    \n",
    "    # stack = []\n",
    "    # bracket_map = {')': '(', '}': '{', ']': '['}\n",
    "    # open_brackets = ['(', '{', '[']\n",
    "    # # print(open_brackets)\n",
    "\n",
    "    # for char in s:\n",
    "    #     if char in open_brackets:\n",
    "    #         stack.append(char)\n",
    "    #     elif char in bracket_map:\n",
    "    #         if not stack or stack[-1] != bracket_map[char]:\n",
    "    #             return False\n",
    "    #         stack.pop()\n",
    "\n",
    "    # return not stack  # Return True if stack is empty, False otherwise\n",
    "\n",
    "    # Plan - begin at left and right of string, check if s[left] has closing bracket .get(s[left]) to retrieve key\n",
    "\n",
    "    \n",
    "\n",
    "# Example usage:\n",
    "if __name__ == \"__main__\":\n",
    "    print(is_valid(\"()\"))  # True\n",
    "    print(is_valid(\"()[]{}\"))  # True\n",
    "    print(is_valid(\"(]\"))  # False\n",
    "    print(is_valid(\"([)]\"))  # False\n",
    "    print(is_valid(\"{[]}\"))  # True\n",
    "    print(is_valid(\"[\"))  # False\n",
    "    print(is_valid(\"]\"))  # False\n",
    "    print(is_valid(\"\"))  # True"
   ]
  },
  {
   "cell_type": "code",
   "execution_count": null,
   "id": "428428be",
   "metadata": {},
   "outputs": [
    {
     "name": "stdout",
     "output_type": "stream",
     "text": [
      "None\n"
     ]
    }
   ],
   "source": [
    "def max_profit(prices):\n",
    "\t# You are given a list of integers prices where prices[i] is the price of a given stock on the ith day.\n",
    "\n",
    "    # You want to maximize your profit by choosing a single day to buy one stock and choosing a different day in the future to sell that stock.\n",
    "\n",
    "    # Return the maximum profit you can achieve from this transaction. If you cannot achieve any profit, return 0.\n",
    "\n",
    "    # min_price = float('inf') # Initialize min_price to infinity\n",
    "    # max_profit = 0 # Initialize max_profit to 0\n",
    "    # for price in prices: # Iterate through each price in the list\n",
    "    #     if price < min_price: # If the current price is less than min_price, update min_price\n",
    "    #         min_price = price\n",
    "    #     elif price - min_price > max_profit: # If the current price minus min_price is greater than max_profit, update max_profit\n",
    "    #         # Update max_profit to the difference between the current price and min_price\n",
    "    #         max_profit = price - min_price\n",
    "    # return max_profit \n",
    "\n",
    "\n",
    "\n",
    "prices = [7,1,5,3,6,4]\n",
    "print(max_profit(prices))  # Output: 5 (Buy on day 2 and sell on day 5)\n",
    "    "
   ]
  },
  {
   "cell_type": "code",
   "execution_count": 1,
   "id": "4fd7f7dd",
   "metadata": {},
   "outputs": [
    {
     "name": "stdout",
     "output_type": "stream",
     "text": [
      "Element 3 found at index: 2\n"
     ]
    }
   ],
   "source": [
    "# what is the time complexity of this code?\n",
    "def search(lst, target):\n",
    "    for i in range(len(lst)):\n",
    "        if lst[i] == target:\n",
    "            return i\n",
    "    return -1\n",
    "# Example usage:\n",
    "lst = [1, 2, 3, 4, 5]\n",
    "target = 3\n",
    "result = search(lst, target)\n",
    "print(f\"Element {target} found at index: {result}\")  # Output: Element 3 found at index: 2\n",
    "# The time complexity of the search function is O(n), where n is the number of elements in the list lst. This is because, in the worst case, we may have to iterate through all n elements to find the target element or determine that it is not present in the list.\n"
   ]
  },
  {
   "cell_type": "code",
   "execution_count": 2,
   "id": "64fe4d39",
   "metadata": {},
   "outputs": [
    {
     "name": "stdout",
     "output_type": "stream",
     "text": [
      "Squares of even numbers in [1, 2, 3, 4, 5]: [4, 16]\n"
     ]
    }
   ],
   "source": [
    "def mystery_function(n):\n",
    "    return [x * x for x in n if x % 2 == 0]\n",
    "# Example usage:\n",
    "n = [1, 2, 3, 4, 5]\n",
    "result = mystery_function(n)\n",
    "print(f\"Squares of even numbers in {n}: {result}\")  # Output: Squares of even numbers in [1, 2, 3, 4, 5]: [4, 16]\n",
    "# The time complexity of the mystery_function is O(n), where n is the number of elements in the input list n. This is because we iterate through each element in the list once to check if it is even and then compute its square if it is. The space complexity is also O(n) in the worst case, as we may store all even squares in the output list."
   ]
  },
  {
   "cell_type": "code",
   "execution_count": null,
   "id": "3dddd236",
   "metadata": {},
   "outputs": [],
   "source": [
    "class TreeNode():\n",
    "    def __init__(self, val=0, left=None, right=None):\n",
    "        \n",
    "        self.val = val\n",
    "        self.left = left\n",
    "        self.right = right\n",
    "\n",
    "def mystery_function(root, val):\n",
    "    if root is None:\n",
    "        return TreeNode(val)\n",
    "    if val < root.val:\n",
    "        root.left = mystery_function(root.left, val)\n",
    "    else:\n",
    "        root.right = mystery_function(root.right, val)\n",
    "    return root\n",
    "\n",
    "# Example usage:\n",
    "root = TreeNode(4)\n",
    "root.left = TreeNode(2)\n",
    "root.right = TreeNode(7)\n",
    "root = mystery_function(root, 1)\n",
    "root = mystery_function(root, 3)\n",
    "\n",
    "# what is the best represents the tree with root root?\n",
    "# The tree structure after inserting 1 and 3 would look like this:\n",
    "#         4\n",
    "#        / \\\n",
    "#       2   7\n",
    "#      / \\\n",
    "#     1   3"
   ]
  },
  {
   "cell_type": "code",
   "execution_count": null,
   "id": "99b106e8",
   "metadata": {},
   "outputs": [],
   "source": [
    "class TreeNode():\n",
    "    def __init__(self, val=0, left=None, right=None):\n",
    "        \n",
    "        self.val = val\n",
    "        self.left = left\n",
    "        self.right = right\n",
    "def remove_head(head):\n",
    "    # remove the head from a doubly linked list and return the new head of the list. if the list is empty, return None.\n",
    "    if head is None:\n",
    "        return None\n",
    "    new_head = head.next\n",
    "    # why we need to set the prev of new_head to None?\n",
    "    # because we are removing the head node, and the new head should not have a reference to the old head.\n",
    "\n",
    "    if new_head is not None:\n",
    "        new_head.prev = None\n",
    "    return new_head"
   ]
  },
  {
   "cell_type": "code",
   "execution_count": 6,
   "id": "ac7e9486",
   "metadata": {},
   "outputs": [
    {
     "name": "stdout",
     "output_type": "stream",
     "text": [
      "Length of the longest palindrome that can be built from 'abccccdd': 7\n",
      "Length of the longest palindrome that can be built from 'a': 1\n"
     ]
    }
   ],
   "source": [
    "# given a string s which consists of lowercase or uppercase letters, return the length of the longest palindrome that can be built by those letters. letters are case sensitive, for example, \"Aa\" is not considered a palindrome here.\n",
    "def longest_palindrome(s):\n",
    "    # explain the solution throught process\n",
    "    # To find the length of the longest palindrome that can be built from the letters in the string s, we can use a frequency count of each character.\n",
    "    # A palindrome can have at most one character with an odd frequency (which can be placed in the middle), while all other characters must have even frequencies (which can be mirrored around the center).\n",
    "    # We can iterate through the string, count the occurrences of each character, and then calculate the length of the longest palindrome based on these counts.\n",
    "    # We can use a dictionary to store the frequency of each character. Then, we can iterate through the frequency counts to calculate the length of the longest palindrome.\n",
    "\n",
    "    \n",
    "    char_count = {}\n",
    "    \n",
    "    for char in s:\n",
    "        if char in char_count:\n",
    "            char_count[char] += 1\n",
    "        else:\n",
    "            char_count[char] = 1\n",
    "    \n",
    "    odd_found = False\n",
    "    length = 0\n",
    "\n",
    "    # check s is odd or even length?\n",
    "    for count in char_count.values():\n",
    "        if count % 2 == 0:\n",
    "            length += count\n",
    "        else:\n",
    "            length += count - 1 ## if 'c' exist 3 times, we can use 2 'c' to form pairs, and delete 1 'c' that not count in the total length\n",
    "            odd_found = True\n",
    "    \n",
    "    # This is because we can place one odd character in the middle of the palindrome.\n",
    "    if odd_found:\n",
    "        length += 1\n",
    "    \n",
    "    return length\n",
    "\n",
    "\n",
    "# Example usage:\n",
    "s = \"abccccdd\"\n",
    "result = longest_palindrome(s)\n",
    "print(f\"Length of the longest palindrome that can be built from '{s}': {result}\")  \n",
    "\n",
    "s = 'a'\n",
    "result = longest_palindrome(s)\n",
    "print(f\"Length of the longest palindrome that can be built from '{s}': {result}\")  # Output: 1 (a)\n"
   ]
  },
  {
   "cell_type": "code",
   "execution_count": null,
   "id": "c1025a3c",
   "metadata": {},
   "outputs": [],
   "source": [
    "# given the head of a linked list, return True if the list has a cycle in it and False otherwise. A linked list has a cycle if at some point in the list, the node's next pointer points back to a previous node in the list.\n",
    "\n",
    "class Node:\n",
    "   def __init__(self, value, next=None):\n",
    "       self.val = value\n",
    "       self.next = next\n",
    "\n",
    "def has_cycle(head):\n",
    "    # To detect a cycle in a linked list, we can use Floyd's Tortoise and Hare algorithm.\n",
    "    # The idea is to use two pointers (slow and fast) that traverse the list at different speeds.\n",
    "    # If there is a cycle, the fast pointer will eventually meet the slow pointer.\n",
    "    # If there is no cycle, the fast pointer will reach the end of the list.\n",
    "\n",
    "    slow, fast = head, head \n",
    "\n",
    "    while fast and fast.next:\n",
    "        slow = slow.next  # Move slow pointer by 1 step\n",
    "        fast = fast.next.next  # Move fast pointer by 2 steps\n",
    "\n",
    "        if slow == fast:  # If they meet, there is a cycle\n",
    "            return True\n",
    "\n",
    "    return False  # No cycle found\n",
    "\n",
    "# Example usage:\n",
    "# Example:\n",
    "\n",
    "# Input List\n",
    "# 1 -> 2 -> 3 -> 4\n",
    "#      ▲         │ \n",
    "#      └─────────┘\n",
    "# Input: head = 1\n",
    "# Output: True"
   ]
  },
  {
   "cell_type": "code",
   "execution_count": 11,
   "id": "57a6736c",
   "metadata": {},
   "outputs": [
    {
     "name": "stdout",
     "output_type": "stream",
     "text": [
      "2\n",
      "5\n"
     ]
    }
   ],
   "source": [
    "# a peak element is an element that is strictly greater than its neighbors. given a list of integers nums, find a peak element, and return its index. If the list contains multiple peaks, return the index to any of the peaks. you may imagine that nums[-1] = nums[n] = -∞.In other words, an element is always considered to be strictly greater than a neighbor that is outside the list.\n",
    "\n",
    "def peak_element(nums):\n",
    "    # To find a peak element in the list, we can use a binary search approach.\n",
    "    # The idea is to compare the middle element with its neighbors and decide which half of the list to search next.\n",
    "    # If the middle element is greater than its right neighbor, then there is a peak in the left half (including the middle).\n",
    "    # If the middle element is less than its right neighbor, then there is a peak in the right half.\n",
    "    left, right = 0, len(nums) - 1\n",
    "\n",
    "    while left <= right:\n",
    "        mid = (left + right) // 2\n",
    "\n",
    "        if (mid == 0 or nums[mid] > nums[mid - 1]) and (mid == len(nums) - 1 or nums[mid] > nums[mid + 1]):\n",
    "            return mid  # Found a peak element\n",
    "        elif mid > 0 and nums[mid - 1] > nums[mid]:\n",
    "            right = mid - 1  # Search in the left half\n",
    "        else:\n",
    "            left = mid + 1  # Search in the right half\n",
    "\n",
    "# Example usage:\n",
    "# Example #1:\n",
    "# Input: nums = [1,2,3,1]\n",
    "# Expected Output: 2\n",
    "# Explanation: 3 is a peak element and has index 2.\n",
    "print(peak_element([1, 2, 3, 1]))  # Output: 2\n",
    "\n",
    "# Example #2:\n",
    "# Input: nums = [1,2,1,3,5,6,4]\n",
    "# Expected Output: 5\n",
    "# 1 is also an acceptable output\n",
    "# Explanation: 2 which has index 1 and 6 which has index 5 are both peak elements\n",
    "print(peak_element([1, 2, 1, 3, 5, 6, 4]))  # Output: 5 or 1"
   ]
  }
 ],
 "metadata": {
  "kernelspec": {
   "display_name": "Python 3",
   "language": "python",
   "name": "python3"
  },
  "language_info": {
   "codemirror_mode": {
    "name": "ipython",
    "version": 3
   },
   "file_extension": ".py",
   "mimetype": "text/x-python",
   "name": "python",
   "nbconvert_exporter": "python",
   "pygments_lexer": "ipython3",
   "version": "3.11.3"
  }
 },
 "nbformat": 4,
 "nbformat_minor": 5
}
