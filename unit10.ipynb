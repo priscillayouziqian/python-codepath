{
 "cells": [
  {
   "cell_type": "code",
   "execution_count": null,
   "id": "79ab4ea6",
   "metadata": {},
   "outputs": [
    {
     "name": "stdout",
     "output_type": "stream",
     "text": [
      "True\n",
      "True\n",
      "False\n",
      "False\n",
      "True\n",
      "False\n",
      "False\n",
      "True\n"
     ]
    }
   ],
   "source": [
    "def is_valid(s):\n",
    "    \"\"\"\n",
    "    Given a string s containing just the characters '(', ')', '{', '}', '[' and ']', return True if the input string is valid and False otherwise.\n",
    "\n",
    "    An input string is valid if:\n",
    "\n",
    "    Open brackets must be closed by the same type of brackets.\n",
    "    Open brackets must be closed in the correct order.\n",
    "    Every close bracket has a corresponding open bracket of the same type.\n",
    "    \"\"\"\n",
    "    \n",
    "    # stack = []\n",
    "    # bracket_map = {')': '(', '}': '{', ']': '['}\n",
    "    # open_brackets = ['(', '{', '[']\n",
    "    # # print(open_brackets)\n",
    "\n",
    "    # for char in s:\n",
    "    #     if char in open_brackets:\n",
    "    #         stack.append(char)\n",
    "    #     elif char in bracket_map:\n",
    "    #         if not stack or stack[-1] != bracket_map[char]:\n",
    "    #             return False\n",
    "    #         stack.pop()\n",
    "\n",
    "    # return not stack  # Return True if stack is empty, False otherwise\n",
    "\n",
    "    # Plan - begin at left and right of string, check if s[left] has closing bracket .get(s[left]) to retrieve key\n",
    "\n",
    "    \n",
    "\n",
    "# Example usage:\n",
    "if __name__ == \"__main__\":\n",
    "    print(is_valid(\"()\"))  # True\n",
    "    print(is_valid(\"()[]{}\"))  # True\n",
    "    print(is_valid(\"(]\"))  # False\n",
    "    print(is_valid(\"([)]\"))  # False\n",
    "    print(is_valid(\"{[]}\"))  # True\n",
    "    print(is_valid(\"[\"))  # False\n",
    "    print(is_valid(\"]\"))  # False\n",
    "    print(is_valid(\"\"))  # True"
   ]
  },
  {
   "cell_type": "code",
   "execution_count": null,
   "id": "428428be",
   "metadata": {},
   "outputs": [
    {
     "name": "stdout",
     "output_type": "stream",
     "text": [
      "None\n"
     ]
    }
   ],
   "source": [
    "def max_profit(prices):\n",
    "\t# You are given a list of integers prices where prices[i] is the price of a given stock on the ith day.\n",
    "\n",
    "    # You want to maximize your profit by choosing a single day to buy one stock and choosing a different day in the future to sell that stock.\n",
    "\n",
    "    # Return the maximum profit you can achieve from this transaction. If you cannot achieve any profit, return 0.\n",
    "\n",
    "    # min_price = float('inf') # Initialize min_price to infinity\n",
    "    # max_profit = 0 # Initialize max_profit to 0\n",
    "    # for price in prices: # Iterate through each price in the list\n",
    "    #     if price < min_price: # If the current price is less than min_price, update min_price\n",
    "    #         min_price = price\n",
    "    #     elif price - min_price > max_profit: # If the current price minus min_price is greater than max_profit, update max_profit\n",
    "    #         # Update max_profit to the difference between the current price and min_price\n",
    "    #         max_profit = price - min_price\n",
    "    # return max_profit \n",
    "\n",
    "\n",
    "\n",
    "prices = [7,1,5,3,6,4]\n",
    "print(max_profit(prices))  # Output: 5 (Buy on day 2 and sell on day 5)\n",
    "    "
   ]
  }
 ],
 "metadata": {
  "kernelspec": {
   "display_name": "Python 3",
   "language": "python",
   "name": "python3"
  },
  "language_info": {
   "codemirror_mode": {
    "name": "ipython",
    "version": 3
   },
   "file_extension": ".py",
   "mimetype": "text/x-python",
   "name": "python",
   "nbconvert_exporter": "python",
   "pygments_lexer": "ipython3",
   "version": "3.11.3"
  }
 },
 "nbformat": 4,
 "nbformat_minor": 5
}
