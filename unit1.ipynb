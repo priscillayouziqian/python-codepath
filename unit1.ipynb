{
 "cells": [
  {
   "cell_type": "code",
   "execution_count": 11,
   "metadata": {},
   "outputs": [
    {
     "name": "stdout",
     "output_type": "stream",
     "text": [
      "Hello John\n"
     ]
    }
   ],
   "source": [
    "def greet_user(name):\n",
    "    print(\"Hello \" + name)\n",
    "\n",
    "greet_user(\"John\")"
   ]
  },
  {
   "cell_type": "code",
   "execution_count": 12,
   "metadata": {},
   "outputs": [
    {
     "name": "stdout",
     "output_type": "stream",
     "text": [
      "3\n"
     ]
    }
   ],
   "source": [
    "def difference(a, b):\n",
    "    return a - b\n",
    "\n",
    "print(difference(5, 2))"
   ]
  },
  {
   "cell_type": "code",
   "execution_count": 13,
   "metadata": {},
   "outputs": [
    {
     "name": "stdout",
     "output_type": "stream",
     "text": [
      "[1, 2, 3, 4, 1, 2, 3, 4]\n"
     ]
    }
   ],
   "source": [
    "def concatenate_list(nums):\n",
    "    return nums + nums\n",
    "\n",
    "print(concatenate_list([1, 2, 3, 4]))"
   ]
  },
  {
   "cell_type": "code",
   "execution_count": 14,
   "metadata": {},
   "outputs": [
    {
     "name": "stdout",
     "output_type": "stream",
     "text": [
      "6.6795\n",
      "4.453\n",
      "8.906\n"
     ]
    }
   ],
   "source": [
    "def calculate_tip(bill, service_quality):\n",
    "    if service_quality == \"poor\":\n",
    "        return bill * 0.1\n",
    "    elif service_quality == \"average\":\n",
    "        return bill * 0.15\n",
    "    elif service_quality == \"excellent\":\n",
    "        return bill * 0.2\n",
    "    else:\n",
    "        return None\n",
    "    \n",
    "tip1 = calculate_tip(44.53, \"average\")\n",
    "print(tip1)\n",
    "tip2 = calculate_tip(44.53, \"poor\")\n",
    "print(tip2)\n",
    "tip3 = calculate_tip(44.53, \"excellent\")\n",
    "print(tip3)   "
   ]
  },
  {
   "cell_type": "code",
   "execution_count": 15,
   "metadata": {},
   "outputs": [
    {
     "name": "stdout",
     "output_type": "stream",
     "text": [
      "It's a tie!\n",
      "Player 2 wins!\n",
      "Player 1 wins!\n",
      "Player 2 wins!\n",
      "Player 1 wins!\n"
     ]
    }
   ],
   "source": [
    "def rock_paper_scissors(player1, player2):\n",
    "    if player1 == player2:\n",
    "        print(\"It's a tie!\")\n",
    "    elif player1 == \"rock\":\n",
    "        if player2 == \"scissors\":\n",
    "            print(\"Player 1 wins!\")\n",
    "        else:\n",
    "            print(\"Player 2 wins!\")\n",
    "    elif player1 == \"scissors\":\n",
    "        if player2 == \"paper\":\n",
    "            print(\"Player 1 wins!\")\n",
    "        else:\n",
    "            print(\"Player 2 wins!\")\n",
    "    elif player1 == \"paper\":\n",
    "        if player2 == \"rock\":\n",
    "            print(\"Player 1 wins!\")\n",
    "        else:\n",
    "            print(\"Player 2 wins!\")\n",
    "\n",
    "rock_paper_scissors(\"rock\", \"rock\")\n",
    "rock_paper_scissors(\"scissors\", \"rock\")\n",
    "rock_paper_scissors(\"scissors\", \"paper\")\n",
    "rock_paper_scissors(\"rock\", \"paper\")\n",
    "rock_paper_scissors(\"paper\", \"rock\")"
   ]
  },
  {
   "cell_type": "code",
   "execution_count": 16,
   "metadata": {},
   "outputs": [
    {
     "data": {
      "text/plain": [
       "[1.0, 2.0, 3.0, 4.0]"
      ]
     },
     "execution_count": 16,
     "metadata": {},
     "output_type": "execute_result"
    }
   ],
   "source": [
    "def halve_lst(lst):\n",
    "    result = []\n",
    "    for number in lst:\n",
    "        halved = number/2\n",
    "        result.append(halved)\n",
    "    return result\n",
    "halve_lst([2,4,6,8])"
   ]
  },
  {
   "cell_type": "code",
   "execution_count": 20,
   "metadata": {},
   "outputs": [
    {
     "name": "stdout",
     "output_type": "stream",
     "text": [
      "[13, 11, 14]\n"
     ]
    }
   ],
   "source": [
    "def above_threshold(lst, threshold):\n",
    "    result = []\n",
    "    for number in lst:\n",
    "        if number > threshold:\n",
    "            result.append(number)\n",
    "    return result\n",
    "lst = [8,2,13,11,4,10,14]\n",
    "new_lst = above_threshold(lst, 10)\n",
    "print(new_lst)"
   ]
  },
  {
   "cell_type": "code",
   "execution_count": 28,
   "metadata": {},
   "outputs": [
    {
     "name": "stdout",
     "output_type": "stream",
     "text": [
      "5\n",
      "4\n",
      "3\n",
      "2\n",
      "1\n"
     ]
    }
   ],
   "source": [
    "def countdown(m, n):\n",
    "    # 1) Loop through the numbers starting at `m`, ending at `n`, and stepping -1 each time\n",
    "    for i in range(m, n-1, -1):\n",
    "        # 2) Print each number\n",
    "        print(i)   \n",
    "\n",
    "countdown(5, 1)"
   ]
  },
  {
   "cell_type": "code",
   "execution_count": 29,
   "metadata": {},
   "outputs": [
    {
     "name": "stdout",
     "output_type": "stream",
     "text": [
      "32\n",
      "27\n"
     ]
    }
   ],
   "source": [
    "def power(base, exponent):\n",
    "    return base ** exponent\n",
    "\n",
    "pow1 = power(2,5)\n",
    "print(pow1)\n",
    "pow2 = power(3,3)\n",
    "print(pow2)"
   ]
  },
  {
   "cell_type": "code",
   "execution_count": 30,
   "metadata": {},
   "outputs": [
    {
     "name": "stdout",
     "output_type": "stream",
     "text": [
      "5\n"
     ]
    }
   ],
   "source": [
    "def list_length(lst):\n",
    "    count = 0\n",
    "    for i in lst:\n",
    "        count += 1\n",
    "    return count\n",
    "lst = [2,4,6,8,10]\n",
    "length = list_length(lst)\n",
    "print(length)"
   ]
  },
  {
   "cell_type": "code",
   "execution_count": null,
   "metadata": {},
   "outputs": [
    {
     "name": "stdout",
     "output_type": "stream",
     "text": [
      "6\n"
     ]
    }
   ],
   "source": [
    "def factorial(n):\n",
    "\n",
    "\n",
    "\n",
    "    # n always positive\n",
    "    result = 1\n",
    "    for i in range(1, n+1):\n",
    "        result = result * i\n",
    "    return result\n",
    "\n",
    "print(factorial(3))\n",
    "\n"
   ]
  },
  {
   "cell_type": "markdown",
   "metadata": {},
   "source": [
    "Session 2"
   ]
  },
  {
   "cell_type": "code",
   "execution_count": 33,
   "metadata": {},
   "outputs": [
    {
     "name": "stdout",
     "output_type": "stream",
     "text": [
      "squirtle\n",
      "gengar\n",
      "charizard\n",
      "pikachu\n"
     ]
    }
   ],
   "source": [
    "def print_list(lst):\n",
    "    for item in lst:\n",
    "        print(item)\n",
    "\n",
    "lst = [\"squirtle\", \"gengar\", \"charizard\", \"pikachu\"]\n",
    "print_list(lst)"
   ]
  },
  {
   "cell_type": "code",
   "execution_count": 34,
   "metadata": {},
   "outputs": [
    {
     "name": "stdout",
     "output_type": "stream",
     "text": [
      "2\n",
      "4\n",
      "6\n"
     ]
    }
   ],
   "source": [
    "def doubled(lst):\n",
    "\n",
    "\n",
    "    for item in lst:\n",
    "        print(item * 2)\n",
    "\n",
    "lst = [1,2,3]\n",
    "doubled(lst)"
   ]
  },
  {
   "cell_type": "code",
   "execution_count": 35,
   "metadata": {},
   "outputs": [
    {
     "name": "stdout",
     "output_type": "stream",
     "text": [
      "[2, 4, 6]\n"
     ]
    }
   ],
   "source": [
    "def doubled(lst):\n",
    "    new_lit = []\n",
    "    for item in lst:\n",
    "        new_lit.append(item * 2)\n",
    "    return new_lit\n",
    "\n",
    "lst = [1,2,3]\n",
    "new_lst = doubled(lst)\n",
    "print(new_lst)"
   ]
  },
  {
   "cell_type": "code",
   "execution_count": 36,
   "metadata": {},
   "outputs": [
    {
     "name": "stdout",
     "output_type": "stream",
     "text": [
      "[-1, 2, 3, -4]\n"
     ]
    }
   ],
   "source": [
    "def flip_sign(lst):\n",
    "    new_lst = []\n",
    "    for item in lst:\n",
    "        new_lst.append(item * -1)\n",
    "    return new_lst\n",
    "\n",
    "lst = [1,-2,-3,4]\n",
    "flipped_lst = flip_sign(lst)\n",
    "print(flipped_lst)"
   ]
  },
  {
   "cell_type": "code",
   "execution_count": 37,
   "metadata": {},
   "outputs": [
    {
     "name": "stdout",
     "output_type": "stream",
     "text": [
      "20\n"
     ]
    }
   ],
   "source": [
    "def max_difference(lst):\n",
    "    max_num = lst[0] \n",
    "    min_num = lst[0]\n",
    "\n",
    "    for item in lst:\n",
    "        if item > max_num:\n",
    "            max_num = item\n",
    "        if item < min_num:\n",
    "            min_num = item\n",
    "    return max_num - min_num\n",
    "\n",
    "lst = [5,22,8,10,2]\n",
    "max_diff = max_difference(lst)\n",
    "print(max_diff)"
   ]
  },
  {
   "cell_type": "code",
   "execution_count": 38,
   "metadata": {},
   "outputs": [
    {
     "name": "stdout",
     "output_type": "stream",
     "text": [
      "3\n"
     ]
    }
   ],
   "source": [
    "def count_less_than(numbers, threshold):\n",
    "    count = 0\n",
    "    for num in numbers:\n",
    "        if num < threshold:\n",
    "            count += 1\n",
    "    return count\n",
    "\n",
    "numbers = [12,8,2,4,4,10]\n",
    "counter = count_less_than(numbers,5)\n",
    "print(counter)"
   ]
  },
  {
   "cell_type": "code",
   "execution_count": 39,
   "metadata": {},
   "outputs": [
    {
     "name": "stdout",
     "output_type": "stream",
     "text": [
      "[2, 4]\n"
     ]
    }
   ],
   "source": [
    "def get_evens(lst):\n",
    "\n",
    "\n",
    "    evens = []\n",
    "    for num in lst:\n",
    "        if num % 2 == 0:\n",
    "            evens.append(num)\n",
    "    return evens\n",
    "\n",
    "lst = [1,2,3,4]\n",
    "evens_lst = get_evens(lst)\n",
    "print(evens_lst)"
   ]
  },
  {
   "cell_type": "code",
   "execution_count": 44,
   "metadata": {},
   "outputs": [
    {
     "name": "stdout",
     "output_type": "stream",
     "text": [
      "5\n",
      "10\n",
      "15\n",
      "20\n",
      "25\n",
      "30\n",
      "35\n",
      "40\n",
      "45\n",
      "50\n",
      "55\n",
      "60\n",
      "65\n",
      "70\n",
      "75\n",
      "80\n",
      "85\n",
      "90\n",
      "95\n",
      "100\n"
     ]
    }
   ],
   "source": [
    "def multiples_of_five(start, end):\n",
    "\n",
    "\n",
    "    for num in range(5, 101, 5):\n",
    "        print(num)\n",
    "\n",
    "multiples_of_five(1, 100)"
   ]
  },
  {
   "cell_type": "code",
   "execution_count": 45,
   "metadata": {},
   "outputs": [
    {
     "name": "stdout",
     "output_type": "stream",
     "text": [
      "[1, 2, 3, 6]\n"
     ]
    }
   ],
   "source": [
    "def find_divisors(n):\n",
    "\n",
    "\n",
    "    divisors = []\n",
    "    for i in range(1, n+1):\n",
    "        if n % i == 0:\n",
    "            divisors.append(i)\n",
    "\n",
    "    return divisors\n",
    "lst = find_divisors(6)\n",
    "print(lst)"
   ]
  },
  {
   "cell_type": "code",
   "execution_count": 46,
   "metadata": {},
   "outputs": [
    {
     "name": "stdout",
     "output_type": "stream",
     "text": [
      "0\n",
      "1\n",
      "2\n",
      "3\n",
      "4\n"
     ]
    }
   ],
   "source": [
    "def print_indices(lst):\n",
    "\n",
    "\n",
    "    for i in range(len(lst)):\n",
    "        print(i)\n",
    "\n",
    "lst = [5,1,3,8,2]\n",
    "print_indices(lst)"
   ]
  },
  {
   "cell_type": "code",
   "execution_count": 47,
   "metadata": {},
   "outputs": [
    {
     "name": "stdout",
     "output_type": "stream",
     "text": [
      "2\n",
      "-1\n"
     ]
    }
   ],
   "source": [
    "def linear_search(lst, target):\n",
    "\n",
    "\n",
    "    for i in range(len(lst)):\n",
    "        if lst[i] == target:\n",
    "            return i\n",
    "    return -1\n",
    "\n",
    "lst = [1,4,5,2,8]\n",
    "position = linear_search(lst,5)\n",
    "print(position)\n",
    "lst = [1,4,5,2,8]\n",
    "position = linear_search(lst,10)\n",
    "print(position)"
   ]
  }
 ],
 "metadata": {
  "kernelspec": {
   "display_name": "Python 3",
   "language": "python",
   "name": "python3"
  },
  "language_info": {
   "codemirror_mode": {
    "name": "ipython",
    "version": 3
   },
   "file_extension": ".py",
   "mimetype": "text/x-python",
   "name": "python",
   "nbconvert_exporter": "python",
   "pygments_lexer": "ipython3",
   "version": "3.11.3"
  }
 },
 "nbformat": 4,
 "nbformat_minor": 2
}
