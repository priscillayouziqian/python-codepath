{
 "cells": [
  {
   "cell_type": "markdown",
   "metadata": {},
   "source": [
    "## Problem 1: Cast Vote\n",
    "Write a function `cast_vote()` that records a vote for a candidate in an election. The function accepts a dictionary votes that maps candidates to their current number of votes and a string candidate that represents the candidate the user would like to vote for. If the candidate doesn't exist, add them to the dictionary. The function should return the updated dictionary.\n",
    "```\n",
    "def cast_vote(votes, candidate):\n",
    "    pass\n",
    "```\n",
    "Example Usage:\n",
    "```\n",
    "votes = {\"Alice\": 5, \"Bob\": 3}\n",
    "cast_vote(votes, \"Alice\")\n",
    "print(votes)\n",
    "cast_vote(votes, \"Gina\")\n",
    "print(votes)\n",
    "```\n",
    "Example Output:\n",
    "```\n",
    "{\"Alice\": 6, \"Bob\": 3}\n",
    "{\"Alice\": 6, \"Bob\": 3, \"Gina\": 1}\n",
    "```"
   ]
  },
  {
   "cell_type": "code",
   "execution_count": 1,
   "metadata": {},
   "outputs": [
    {
     "name": "stdout",
     "output_type": "stream",
     "text": [
      "{'Alice': 6, 'Bob': 3}\n",
      "{'Alice': 6, 'Bob': 3, 'Gina': 1}\n"
     ]
    }
   ],
   "source": [
    "votes = {\"Alice\": 5, \"Bob\": 3}\n",
    "\n",
    "def cast_vote(votes, candidate):\n",
    "  #grab the key element from votes dictionary\n",
    "  if votes.get(candidate):\n",
    "\n",
    "  #compare the key with candidate in if statement\n",
    "    # yes, get the value of that key element, +1\n",
    "    votes[candidate] = votes.get(candidate) + 1\n",
    "    # no, else statement, append a new key element to votes dic\n",
    "  else:\n",
    "    votes[candidate] = 1\n",
    "  #return votes dic\n",
    "  return votes\n",
    "\n",
    "print(cast_vote(votes, \"Alice\"))\n",
    "print(cast_vote(votes, \"Gina\"))"
   ]
  }
 ],
 "metadata": {
  "kernelspec": {
   "display_name": "Python 3",
   "language": "python",
   "name": "python3"
  },
  "language_info": {
   "codemirror_mode": {
    "name": "ipython",
    "version": 3
   },
   "file_extension": ".py",
   "mimetype": "text/x-python",
   "name": "python",
   "nbconvert_exporter": "python",
   "pygments_lexer": "ipython3",
   "version": "3.11.3"
  }
 },
 "nbformat": 4,
 "nbformat_minor": 2
}
