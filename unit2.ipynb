{
 "cells": [
  {
   "cell_type": "markdown",
   "metadata": {},
   "source": [
    "Session 1"
   ]
  },
  {
   "cell_type": "code",
   "execution_count": 3,
   "metadata": {},
   "outputs": [
    {
     "name": "stdout",
     "output_type": "stream",
     "text": [
      "True\n",
      "True\n",
      "False\n",
      "True\n"
     ]
    }
   ],
   "source": [
    "def is_subsequence(lst, sequence):\n",
    "    seq_index = 0  # Pointer for sequence list\n",
    "    \n",
    "    for num in lst:\n",
    "        # e.g. index 1 < length of 2, means sequence still have remaining elements to check. \n",
    "        # num == sequence[seq_index] they match\n",
    "        if seq_index < len(sequence) and num == sequence[seq_index]:\n",
    "            seq_index += 1  # Move pointer forward if there's a match\n",
    "        \n",
    "        if seq_index == len(sequence):  # e.g index 2 == length of 2, the index 2 is out of range, means all elements in sequence were checked\n",
    "            return True\n",
    "    \n",
    "    return False  # If not all elements in sequence were matched\n",
    "\n",
    "# Example usage:\n",
    "print(is_subsequence([1, 2, 3, 4, 5], [2, 4]))  # True\n",
    "print(is_subsequence([5, 1, 22, 25, 6, -1, 8, 10], [1, 6, -1, 10]))  # True\n",
    "print(is_subsequence([1, 2, 3, 4, 5], [2, 6]))  # False\n",
    "lst = [5, 1, 22, 25, 6, -1, 8, 10]\n",
    "sequence = [1, 6, -1, 10]\n",
    "print(is_subsequence(lst, sequence))\n"
   ]
  },
  {
   "cell_type": "markdown",
   "metadata": {},
   "source": [
    "Problem 2: Create a Dictionary\n",
    "Write a function create_dictionary() that takes in a list of keys and a list of values as parameters. The function returns a dictionary where each item in keys is paired with a corresponding item in values.\n",
    "\n",
    "keys[i] should be paired with values[i] in the dictionary where 0 <= i <= len(keys). You may assume keys and values are the same length.\n",
    "\n",
    "def create_dictionary(keys, values):\n",
    "    pass\n",
    "Example Input:\n",
    "\n",
    "keys = [\"peanut\", \"dragon\", \"star\", \"pop\", \"space\"]\n",
    "values = [\"butter\", \"fly\", \"fish\", \"corn\", \"ship\"]\n",
    "Example Output:\n",
    "\n",
    "{\"peanut\": \"butter\", \"dragon\": \"fly\", \"star\": \"fish\", \"pop\": \"corn\", \"space\": \"ship\"}"
   ]
  },
  {
   "cell_type": "code",
   "execution_count": null,
   "metadata": {},
   "outputs": [
    {
     "name": "stdout",
     "output_type": "stream",
     "text": [
      "{'peanut': 'butter', 'dragon': 'fly', 'star': 'fish', 'pop': 'corn', 'space': 'ship'}\n"
     ]
    }
   ],
   "source": [
    "def create_dictionary(keys, values):\n",
    "    # create an empty dictionary\n",
    "    dict = {}\n",
    "    # iterate through the keys and values. Since keys/values has the same length, just pick one of them (here keys).\n",
    "    for i in range(len(keys)): \n",
    "     # use index i to access the keys/values and assign the value to the key in the dictionary\n",
    "        dict[keys[i]] = values[i] # e.g dict[keys[0]] is dict[\"peanut\"] and values[0] is \"butter\"\n",
    "    return dict\n",
    "\n",
    "keys = [\"peanut\", \"dragon\", \"star\", \"pop\", \"space\"]\n",
    "values = [\"butter\", \"fly\", \"fish\", \"corn\", \"ship\"]\n",
    "print(create_dictionary(keys, values))"
   ]
  },
  {
   "cell_type": "markdown",
   "metadata": {},
   "source": [
    "Write a function print_pair() that takes in a dictionary dictionary and a key target as parameters. The function looks for the target and when found, it prints the key and it's associated value as \"Key: <key>\" followed by \"Value: <value>\". If target is not in dictionary, print \"That pair does not exist!\".\n",
    "\n",
    "def print_pair(dictionary, target):\n",
    "    pass\n",
    "Example Usage:\n",
    "\n",
    "dictionary = {\"spongebob\": \"squarepants\", \"patrick\": \"star\", \"squidward\": \"tentacles\"}\n",
    "print_pair(dictionary, \"patrick\")\n",
    "print_pair(dictionary, \"plankton\")\n",
    "print_pair(dictionary, \"spongebob\")\n",
    "Example Output:\n",
    "\n",
    "Key: patrick\n",
    "Value: star\n",
    "That pair does not exist!\n",
    "Key: spongebob\n",
    "Value: squarepants"
   ]
  },
  {
   "cell_type": "code",
   "execution_count": 8,
   "metadata": {},
   "outputs": [
    {
     "name": "stdout",
     "output_type": "stream",
     "text": [
      "Key: patrick\n",
      "Value: star\n",
      "That pair does not exist!\n",
      "Key: spongebob\n",
      "Value: squarepants\n"
     ]
    }
   ],
   "source": [
    "def print_pair(dictionary, target):\n",
    "    # Check if the target exists in the dictionary\n",
    "    if target in dictionary:\n",
    "        # If it exists, print the key-value pair\n",
    "        print(f\"Key: {target}\")\n",
    "        print(f\"Value: {dictionary[target]}\")\n",
    "    else:\n",
    "        # If it doesn't exist, print a message\n",
    "        print(\"That pair does not exist!\")\n",
    "\n",
    "dictionary = {\"spongebob\": \"squarepants\", \"patrick\": \"star\", \"squidward\": \"tentacles\"}\n",
    "print_pair(dictionary, \"patrick\")\n",
    "print_pair(dictionary, \"plankton\")\n",
    "print_pair(dictionary, \"spongebob\")"
   ]
  },
  {
   "cell_type": "markdown",
   "metadata": {},
   "source": [
    "Write a function keys_v_values() that takes in a dictionary dictionary whose keys and values are both integers. The function should find the sum of all keys in the dictionary and the sum of all values.\n",
    "If the sum of all keys is greater than the sum of all values, the function should return the string \"keys\".\n",
    "If the sum of all values is greater than the sum of all keys, the function should return the string \"values\".\n",
    "If keys and values have equal sums, the function should return the string \"balanced\".\n",
    "\n",
    "def keys_v_values(dictionary):\n",
    "    pass\n",
    "Example Usage:\n",
    "\n",
    "dictionary1 = {1:10, 2:20, 3:30, 4:40, 5:50, 6:60}\n",
    "greater_sum = keys_v_values(dictionary1)\n",
    "print(greater_sum)\n",
    "\n",
    "dictionary2 = {100:10, 200:20, 300:30, 400:40, 500:50, 600:60}\n",
    "greater_sum = keys_v_values(dictionary2)\n",
    "print(greater_sum)\n",
    "Example Output:\n",
    "\n",
    "values\n",
    "keys"
   ]
  },
  {
   "cell_type": "code",
   "execution_count": 9,
   "metadata": {},
   "outputs": [
    {
     "name": "stdout",
     "output_type": "stream",
     "text": [
      "values\n",
      "keys\n"
     ]
    }
   ],
   "source": [
    "def keys_v_values(dictionary):\n",
    "  # get the keys in a list\n",
    "  keys = dictionary.keys()\n",
    "  # get the values in a list\n",
    "  values = dictionary.values()\n",
    "  # key_sum, value_sum\n",
    "  key_sum = 0\n",
    "  value_sum = 0\n",
    "  # loop through keys and values, add each key/value\n",
    "  for i in keys:\n",
    "    key_sum += i\n",
    "  for v in values:\n",
    "    value_sum += v\n",
    "  # compare the sums and return the result\n",
    "  if key_sum > value_sum:\n",
    "    return \"keys\"\n",
    "  elif value_sum > key_sum:\n",
    "    return \"values\"\n",
    "  else:\n",
    "    return \"balanced\"\n",
    "\n",
    "dictionary1 = {1:10, 2:20, 3:30, 4:40, 5:50, 6:60}\n",
    "greater_sum = keys_v_values(dictionary1)\n",
    "print(greater_sum)\n",
    "\n",
    "dictionary2 = {100:10, 200:20, 300:30, 400:40, 500:50, 600:60}\n",
    "greater_sum = keys_v_values(dictionary2)\n",
    "print(greater_sum)"
   ]
  },
  {
   "cell_type": "code",
   "execution_count": 10,
   "metadata": {},
   "outputs": [
    {
     "name": "stdout",
     "output_type": "stream",
     "text": [
      "{'apples': 40, 'bananas': 15, 'oranges': 30, 'pears': 5}\n"
     ]
    }
   ],
   "source": [
    "def restock_inventory(current_inventory, restock_list):\n",
    "  # both params are dict. use for k, v in dict.items() to get each tuples' key and value\n",
    "  # Loop over restock_list items to update current_inventory\n",
    "  for key, value in restock_list.items():\n",
    "      if current_inventory.get(key):\n",
    "        # if key in current_inventory:\n",
    "          current_inventory[key] += value\n",
    "      # if not found key in a, add key: value to a\n",
    "      else:\n",
    "        current_inventory[key] = value\n",
    "  return current_inventory\n",
    "\n",
    "current_inventory = {\n",
    "    \"apples\": 30,\n",
    "    \"bananas\": 15,\n",
    "    \"oranges\": 10\n",
    "}\n",
    "\n",
    "restock_list = {\n",
    "    \"oranges\": 20,\n",
    "    \"apples\": 10,\n",
    "    \"pears\": 5\n",
    "}\n",
    "print(restock_inventory(current_inventory, restock_list))"
   ]
  },
  {
   "cell_type": "code",
   "execution_count": 11,
   "metadata": {},
   "outputs": [
    {
     "name": "stdout",
     "output_type": "stream",
     "text": [
      "3.3333333333333335\n"
     ]
    }
   ],
   "source": [
    "def calculate_gpa(report_card):\n",
    "  grade = {\"A\": 4, \"B\": 3, \"C\": 2, \"D\": 1, \"F\": 0}\n",
    "\n",
    "  total = 0\n",
    "\n",
    "  # Check if the report_card dictionary is empty, if yes, len(report_card) will be zero, division will throw an error\n",
    "  if not report_card:\n",
    "      return 0.0\n",
    "\n",
    "  for value in report_card.values():\n",
    "    total += grade[value] # e.g [] \"A\" -> value is \"A\", grade[\"A\"] is 4. total += 4\n",
    "\n",
    "  return total/len(report_card) # report_card is a dict, len(dict) return length, means how many subjects\n",
    "\n",
    "report_card = {\"Math\": \"A\", \"Science\": \"C\", \"History\": \"A\", \"Art\": \"B\", \"English\": \"B\", \"Spanish\": \"A\"}\n",
    "print(calculate_gpa(report_card))"
   ]
  },
  {
   "cell_type": "code",
   "execution_count": 12,
   "metadata": {},
   "outputs": [
    {
     "name": "stdout",
     "output_type": "stream",
     "text": [
      "{'title': 'A Fortune For Your Disaster', 'author': 'Hanif Abdurraqib', 'rating': 4.47}\n"
     ]
    }
   ],
   "source": [
    "def highest_rated(books):\n",
    "  # edge case: can books be empty? yes, return None\n",
    "  if not books:\n",
    "    return None\n",
    "  # create highest_book var\n",
    "  highest_rated_book = books[0] # assume the first element is highest\n",
    "  # Start checking from the second book\n",
    "  for item in books[1:]:\n",
    "    # if score > highest_score \n",
    "    if item[\"rating\"] > highest_rated_book[\"rating\"]:\n",
    "      # this book replace the highest_rated_book\n",
    "      highest_rated_book = item\n",
    "  return highest_rated_book\n",
    "  \n",
    "books = [\n",
    "    {\"title\": \"Tomorrow, and Tomorrow, and Tomorrow\",\n",
    "     \"author\": \"Gabrielle Zevin\",\n",
    "     \"rating\": 4.18\n",
    "    },\n",
    "    {\"title\": \"A Fortune For Your Disaster\",\n",
    "     \"author\": \"Hanif Abdurraqib\",\n",
    "     \"rating\": 4.47\n",
    "    },\n",
    "    {\"title\": \"The Seven Husbands of Evenlyn Hugo\",\n",
    "     \"author\": \"Taylor Jenkins Reid\",\n",
    "     \"rating\": 4.40\n",
    "    }\n",
    "]\n",
    "print(highest_rated(books))"
   ]
  },
  {
   "cell_type": "code",
   "execution_count": 13,
   "metadata": {},
   "outputs": [
    {
     "name": "stdout",
     "output_type": "stream",
     "text": [
      "{0: 'apple', 1: 'banana', 2: 'cherry'}\n"
     ]
    }
   ],
   "source": [
    "def index_to_value_map(lst):\n",
    "  # takes in a list, return dict with index as the key\n",
    "  # index = lst.index(lst item)\n",
    "\n",
    "  # create a dict, append index: lst element to it\n",
    "  result = {}\n",
    "\n",
    "  for index in range(len(lst)): # e.g range(3): literate 0, 1, 2\n",
    "    result[index] = lst[index] # list[index] gets the value\n",
    "    \n",
    "  # return dict\n",
    "  return result\n",
    "\n",
    "lst = [\"apple\", \"banana\", \"cherry\"]\n",
    "print(index_to_value_map(lst))"
   ]
  },
  {
   "cell_type": "markdown",
   "metadata": {},
   "source": [
    "## Problem 1: Cast Vote\n",
    "Write a function `cast_vote()` that records a vote for a candidate in an election. The function accepts a dictionary votes that maps candidates to their current number of votes and a string candidate that represents the candidate the user would like to vote for. If the candidate doesn't exist, add them to the dictionary. The function should return the updated dictionary.\n",
    "```\n",
    "def cast_vote(votes, candidate):\n",
    "    pass\n",
    "```\n",
    "Example Usage:\n",
    "```\n",
    "votes = {\"Alice\": 5, \"Bob\": 3}\n",
    "cast_vote(votes, \"Alice\")\n",
    "print(votes)\n",
    "cast_vote(votes, \"Gina\")\n",
    "print(votes)\n",
    "```\n",
    "Example Output:\n",
    "```\n",
    "{\"Alice\": 6, \"Bob\": 3}\n",
    "{\"Alice\": 6, \"Bob\": 3, \"Gina\": 1}\n",
    "```"
   ]
  },
  {
   "cell_type": "code",
   "execution_count": 1,
   "metadata": {},
   "outputs": [
    {
     "name": "stdout",
     "output_type": "stream",
     "text": [
      "{'Alice': 6, 'Bob': 3}\n",
      "{'Alice': 6, 'Bob': 3, 'Gina': 1}\n"
     ]
    }
   ],
   "source": [
    "votes = {\"Alice\": 5, \"Bob\": 3}\n",
    "\n",
    "def cast_vote(votes, candidate):\n",
    "  #grab the key element from votes dictionary\n",
    "  if votes.get(candidate):\n",
    "\n",
    "  #compare the key with candidate in if statement\n",
    "    # yes, get the value of that key element, +1\n",
    "    votes[candidate] = votes.get(candidate) + 1\n",
    "    # no, else statement, append a new key element to votes dic\n",
    "  else:\n",
    "    votes[candidate] = 1\n",
    "  #return votes dic\n",
    "  return votes\n",
    "\n",
    "print(cast_vote(votes, \"Alice\"))\n",
    "print(cast_vote(votes, \"Gina\"))"
   ]
  }
 ],
 "metadata": {
  "kernelspec": {
   "display_name": "Python 3",
   "language": "python",
   "name": "python3"
  },
  "language_info": {
   "codemirror_mode": {
    "name": "ipython",
    "version": 3
   },
   "file_extension": ".py",
   "mimetype": "text/x-python",
   "name": "python",
   "nbconvert_exporter": "python",
   "pygments_lexer": "ipython3",
   "version": "3.11.3"
  }
 },
 "nbformat": 4,
 "nbformat_minor": 2
}
