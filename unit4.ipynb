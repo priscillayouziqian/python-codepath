{
 "cells": [
  {
   "cell_type": "code",
   "execution_count": 1,
   "metadata": {},
   "outputs": [
    {
     "name": "stdout",
     "output_type": "stream",
     "text": [
      "True\n",
      "False\n"
     ]
    }
   ],
   "source": [
    "def isPalindrome(s):\n",
    "    # set 2 pointers index\n",
    "    left = 0\n",
    "    right = len(s) -1\n",
    "\n",
    "    # loop until the left pointer is less than the right pointer\n",
    "    while left < right:     \n",
    "        # check if the left pointer is not equal to the right pointer\n",
    "        if s[left] != s[right]:\n",
    "            return False\n",
    "        \n",
    "        # increment left pointer and decrement right pointer\n",
    "        left += 1\n",
    "        right -= 1\n",
    "\n",
    "    # if the loop completes, it means the string is a palindrome\n",
    "    return True\n",
    "# test the function \n",
    "print(isPalindrome(\"racecar\")) # True\n",
    "print(isPalindrome(\"hello\")) # False"
   ]
  },
  {
   "cell_type": "code",
   "execution_count": null,
   "metadata": {},
   "outputs": [],
   "source": [
    "def isPrime(n):\n",
    "    # check if n is less than 2\n",
    "    if n < 2:\n",
    "        return False\n",
    "\n",
    "    # loop from 2 to the square root of n\n",
    "    for i in range(2, int(n**0.5) + 1):\n",
    "        # check if n is divisible by i\n",
    "        if n % i == 0:\n",
    "            return False\n",
    "\n",
    "    # if the loop completes, it means n is prime\n",
    "    return True"
   ]
  },
  {
   "cell_type": "code",
   "execution_count": 7,
   "metadata": {},
   "outputs": [
    {
     "name": "stdout",
     "output_type": "stream",
     "text": [
      "[5, 4, 3, 2, 1]\n"
     ]
    }
   ],
   "source": [
    "def reverse_list(lst):\n",
    "    # use the two-pointer approach, which is a common technique in which we initialize two variables (also called a pointer in this context) to track different indices or places in a list or string, then moves the pointers to point at new indices based on certain conditions. In the most common variation of the two-pointer approach, we initialize one variable to point at the beginning of a list and a second variable/pointer to point at the end of list. We then shift the pointers to move inwards through the list towards each other, until our problem is solved or the pointers reach the opposite ends of the list\n",
    "\n",
    "    left = 0\n",
    "    right = len(lst) - 1\n",
    "    while left < right:\n",
    "        # swap the elements at the left and right pointers\n",
    "        # syntax: tuple un-packing. (a, b = b, a) swaps the values of a and b)\n",
    "        lst[left], lst[right] = lst[right], lst[left] \n",
    "        # move the pointers towards each other\n",
    "        left += 1\n",
    "        right -= 1\n",
    "    return lst\n",
    "# test the function\n",
    "\n",
    "lst = [1, 2, 3, 4, 5]\n",
    "print(reverse_list(lst)) # [5, 4, 3, 2, 1]"
   ]
  },
  {
   "cell_type": "code",
   "execution_count": 10,
   "metadata": {},
   "outputs": [
    {
     "name": "stdout",
     "output_type": "stream",
     "text": [
      "[5, 4, 3, 2, 1]\n"
     ]
    }
   ],
   "source": [
    "def reverse_list(lst):\n",
    "    # Create a new reversed list\n",
    "    reversed_lst = lst[::-1]\n",
    "    # Copy the elements back into the original list\n",
    "    for i in range(len(lst)):\n",
    "        lst[i] = reversed_lst[i]\n",
    "    return lst\n",
    "\n",
    "lst = [1, 2, 3, 4, 5]\n",
    "print(reverse_list(lst)) # [5, 4, 3, 2, 1]"
   ]
  },
  {
   "cell_type": "code",
   "execution_count": 15,
   "metadata": {},
   "outputs": [
    {
     "name": "stdout",
     "output_type": "stream",
     "text": [
      "[4, 2, 1, 3]\n",
      "[0]\n"
     ]
    }
   ],
   "source": [
    "def sort_array_by_parity(nums):\n",
    "    # takes in an integer list nums as a parameter and moves all the even integers at the beginning of the list followed by all the odd integers. The function returns any list that satisfies this condition.\n",
    "    # left = 0\n",
    "    # right = len(nums) -1\n",
    "\n",
    "    # while left < right:\n",
    "    #     if nums[left] % 2 != 0:\n",
    "    #         nums[left], nums[right] = nums[right], nums[left]\n",
    "    #         right -= 1\n",
    "    #     else:\n",
    "    #         left += 1\n",
    "    # return nums\n",
    "    \n",
    "    left, right = 0, len(nums) - 1\n",
    "    \n",
    "    while left < right:\n",
    "        # Move left pointer forward if current number is even\n",
    "        if nums[left] % 2 == 0:\n",
    "            left += 1\n",
    "        # Move right pointer backward if current number is odd\n",
    "        elif nums[right] % 2 != 0:\n",
    "            right -= 1\n",
    "        # Swap when left pointer points to an odd number and right pointer points to an even number\n",
    "        else:\n",
    "            nums[left], nums[right] = nums[right], nums[left]\n",
    "            left += 1\n",
    "            right -= 1\n",
    "    \n",
    "    return nums\n",
    "\n",
    "nums = [3,1,2,4]\n",
    "nums2 = [0]\n",
    "print(sort_array_by_parity(nums))\n",
    "print(sort_array_by_parity(nums2))"
   ]
  },
  {
   "cell_type": "code",
   "execution_count": 17,
   "metadata": {},
   "outputs": [
    {
     "name": "stdout",
     "output_type": "stream",
     "text": [
      "ada\n",
      "racecar\n",
      "\n"
     ]
    }
   ],
   "source": [
    "def first_palindrome(words):\n",
    "    # takes in a list of strings words as a parameter and returns the first palindromic string in the list. A string is palindromic if it reads the same forward and backward. If there is no such string, return an empty string \"\"\n",
    "\n",
    "    if not words:\n",
    "        return \"\"\n",
    "    \n",
    "    for word in words:\n",
    "        if isPalindrome(word):\n",
    "            return word\n",
    "    return \"\"\n",
    "        \n",
    "def isPalindrome(s):\n",
    "    left = 0\n",
    "    right = len(s) - 1\n",
    "    while left < right:\n",
    "        if s[left] != s[right]:\n",
    "            return False\n",
    "        left += 1\n",
    "        right -= 1\n",
    "    return True\n",
    "\n",
    "words = [\"abc\",\"car\",\"ada\",\"racecar\",\"cool\"]\n",
    "palindrome1 = first_palindrome(words)\n",
    "print(palindrome1)\n",
    "\n",
    "words2 = [\"abc\",\"racecar\",\"cool\"]\n",
    "palindrome2 = first_palindrome(words2)\n",
    "print(palindrome2)\n",
    "\n",
    "words3 = [\"abc\", \"def\", \"ghi\"]\n",
    "palindrome3 = first_palindrome(words3)\n",
    "print(palindrome3)"
   ]
  },
  {
   "cell_type": "code",
   "execution_count": 29,
   "metadata": {},
   "outputs": [
    {
     "name": "stdout",
     "output_type": "stream",
     "text": [
      "adbecfgh\n"
     ]
    }
   ],
   "source": [
    "def merge_char(s1, s2):\n",
    "    # s1 and s2 possibly different lengths, write a function to merge them into a new string by alternatingly taking characters. string consist only of lower case English letters. If one string is longer than the other, append the remaining characters to the end of the merged string.\n",
    "    # example: s1 = \"abc\", s2 = \"defgh\" => \"adbecfgh\"\n",
    "    \n",
    "    # use while loop 2 pointers to iterate through both strings\n",
    "    merged = []\n",
    "    i = 0\n",
    "    j = 0\n",
    "    while i < len(s1) and j < len(s2):\n",
    "        merged.append(s1[i])\n",
    "        merged.append(s2[j])\n",
    "        i += 1\n",
    "        j += 1\n",
    "    \n",
    "    # if s1 is longer, append the remaining characters from s1\n",
    "    while i < len(s1):\n",
    "        merged.append(s1[i])\n",
    "        i += 1\n",
    "    \n",
    "    # if s2 is longer, append the remaining characters from s2\n",
    "    while j < len(s2):\n",
    "        merged.append(s2[j])\n",
    "        j += 1\n",
    "    \n",
    "    # join the list into a string and return it\n",
    "    return ''.join(merged)\n",
    "\n",
    "\n",
    "\n",
    "# test the function\n",
    "s1 = \"abc\"\n",
    "s2 = \"defgh\"\n",
    "merged_string = merge_char(s1, s2)\n",
    "print(merged_string)  # Output: \"adbecfgh\""
   ]
  }
 ],
 "metadata": {
  "kernelspec": {
   "display_name": "Python 3",
   "language": "python",
   "name": "python3"
  },
  "language_info": {
   "codemirror_mode": {
    "name": "ipython",
    "version": 3
   },
   "file_extension": ".py",
   "mimetype": "text/x-python",
   "name": "python",
   "nbconvert_exporter": "python",
   "pygments_lexer": "ipython3",
   "version": "3.11.3"
  }
 },
 "nbformat": 4,
 "nbformat_minor": 2
}
